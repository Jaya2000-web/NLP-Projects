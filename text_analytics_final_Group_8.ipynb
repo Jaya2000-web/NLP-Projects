{
 "cells": [
  {
   "cell_type": "markdown",
   "id": "c77aa1f5",
   "metadata": {},
   "source": [
    "# U.S. Polo Assn. Men White Clarkin Sneakers"
   ]
  },
  {
   "cell_type": "markdown",
   "id": "a89bdf6e",
   "metadata": {},
   "source": [
    "Group 8:\n",
    "<br><b> 1) Aadharsh Girish- B2023001  <br></b>\n",
    "<br><b>2) Addaguduru Sasidhar - B2023003 <br></b>\n",
    "    <br><b>3) Gokul M S - B2023023<br></b>\n",
    "    <br><b>4) Vamsi Krishna B - B2023056<br></b>"
   ]
  },
  {
   "cell_type": "code",
   "execution_count": 138,
   "id": "0219316b",
   "metadata": {},
   "outputs": [],
   "source": [
    "import warnings\n",
    "warnings.filterwarnings(\"ignore\")\n",
    "\n",
    "import pandas as pd\n",
    "import numpy as np\n",
    "import matplotlib.pyplot as plt\n",
    "from nltk.corpus import stopwords\n",
    "from nltk.stem import WordNetLemmatizer\n",
    "import re\n",
    "import nltk\n",
    "\n",
    "## for sentiment analysis\n",
    "from textblob import TextBlob\n",
    "\n",
    "## clustering\n",
    "from sklearn.feature_extraction.text import TfidfVectorizer, CountVectorizer\n",
    "from sklearn.cluster import KMeans\n",
    "\n",
    "## topic modeling\n",
    "from sklearn import decomposition\n",
    "\n",
    "\n",
    "## n-gram model\n",
    "from nltk.util import ngrams\n",
    "from collections import Counter\n",
    "\n",
    "#train test split\n",
    "from sklearn.model_selection import train_test_split\n",
    "\n",
    "\n",
    "# Classification models in consideration \n",
    "from sklearn.svm import SVC\n",
    "from sklearn.linear_model import LogisticRegression\n",
    "from sklearn.naive_bayes import MultinomialNB\n",
    "from sklearn.model_selection import GridSearchCV\n",
    "from sklearn.pipeline import Pipeline\n",
    "from sklearn.metrics import classification_report, accuracy_score\n",
    "from sklearn.metrics import confusion_matrix\n",
    "\n",
    "import nltk\n",
    "from nltk.stem import WordNetLemmatizer\n",
    "from nltk.corpus import stopwords\n",
    "from sklearn.feature_extraction.text import TfidfVectorizer\n",
    "from sklearn.cluster import KMeans\n",
    "import matplotlib.pyplot as plt\n",
    "from sklearn.model_selection import train_test_split, GridSearchCV\n",
    "from sklearn.tree import DecisionTreeClassifier\n",
    "from sklearn.linear_model import LogisticRegression\n",
    "from sklearn.ensemble import RandomForestClassifier\n",
    "from sklearn.svm import SVC\n",
    "from sklearn.decomposition import LatentDirichletAllocation\n",
    "from textblob import TextBlob\n",
    "from sklearn.metrics import accuracy_score"
   ]
  },
  {
   "cell_type": "code",
   "execution_count": 2,
   "id": "ef7a7086",
   "metadata": {},
   "outputs": [
    {
     "name": "stdout",
     "output_type": "stream",
     "text": [
      "<class 'pandas.core.frame.DataFrame'>\n",
      "RangeIndex: 1227 entries, 0 to 1226\n",
      "Data columns (total 9 columns):\n",
      " #   Column       Non-Null Count  Dtype \n",
      "---  ------       --------------  ----- \n",
      " 0   Unnamed: 0   1227 non-null   int64 \n",
      " 1   Name         1227 non-null   object\n",
      " 2   Date         1227 non-null   object\n",
      " 3   Rating       1227 non-null   int64 \n",
      " 4   Images       1227 non-null   int64 \n",
      " 5   Likes        1227 non-null   int64 \n",
      " 6   Dislikes     1227 non-null   int64 \n",
      " 7   Review Text  1179 non-null   object\n",
      " 8   Class        1227 non-null   int64 \n",
      "dtypes: int64(6), object(3)\n",
      "memory usage: 86.4+ KB\n"
     ]
    }
   ],
   "source": [
    "positive = pd.read_excel('NLP_5_star.xlsx')\n",
    "positive['Class'] = 1\n",
    "positive.info()"
   ]
  },
  {
   "cell_type": "code",
   "execution_count": 4,
   "id": "b6a5cd53",
   "metadata": {},
   "outputs": [
    {
     "data": {
      "text/html": [
       "<div>\n",
       "<style scoped>\n",
       "    .dataframe tbody tr th:only-of-type {\n",
       "        vertical-align: middle;\n",
       "    }\n",
       "\n",
       "    .dataframe tbody tr th {\n",
       "        vertical-align: top;\n",
       "    }\n",
       "\n",
       "    .dataframe thead th {\n",
       "        text-align: right;\n",
       "    }\n",
       "</style>\n",
       "<table border=\"1\" class=\"dataframe\">\n",
       "  <thead>\n",
       "    <tr style=\"text-align: right;\">\n",
       "      <th></th>\n",
       "      <th>Unnamed: 0</th>\n",
       "      <th>Name</th>\n",
       "      <th>Date</th>\n",
       "      <th>Rating</th>\n",
       "      <th>Images</th>\n",
       "      <th>Likes</th>\n",
       "      <th>Dislikes</th>\n",
       "      <th>Review Text</th>\n",
       "      <th>Class</th>\n",
       "    </tr>\n",
       "  </thead>\n",
       "  <tbody>\n",
       "    <tr>\n",
       "      <th>0</th>\n",
       "      <td>36</td>\n",
       "      <td>Myntra Customer</td>\n",
       "      <td>17 Oct 2023</td>\n",
       "      <td>1</td>\n",
       "      <td>0</td>\n",
       "      <td>6</td>\n",
       "      <td>1</td>\n",
       "      <td>Don't buy this white product, I wear this shoe...</td>\n",
       "      <td>0</td>\n",
       "    </tr>\n",
       "    <tr>\n",
       "      <th>1</th>\n",
       "      <td>1141</td>\n",
       "      <td>Dhananjay Singh</td>\n",
       "      <td>21 July 2023</td>\n",
       "      <td>1</td>\n",
       "      <td>0</td>\n",
       "      <td>0</td>\n",
       "      <td>0</td>\n",
       "      <td>It is good product</td>\n",
       "      <td>0</td>\n",
       "    </tr>\n",
       "    <tr>\n",
       "      <th>2</th>\n",
       "      <td>1451</td>\n",
       "      <td>Vijay Narasimha</td>\n",
       "      <td>1 Feb 2023</td>\n",
       "      <td>1</td>\n",
       "      <td>0</td>\n",
       "      <td>0</td>\n",
       "      <td>0</td>\n",
       "      <td>Good</td>\n",
       "      <td>0</td>\n",
       "    </tr>\n",
       "    <tr>\n",
       "      <th>3</th>\n",
       "      <td>1589</td>\n",
       "      <td>Vijay</td>\n",
       "      <td>5 Mar 2024</td>\n",
       "      <td>1</td>\n",
       "      <td>0</td>\n",
       "      <td>0</td>\n",
       "      <td>0</td>\n",
       "      <td>Good</td>\n",
       "      <td>0</td>\n",
       "    </tr>\n",
       "    <tr>\n",
       "      <th>4</th>\n",
       "      <td>1772</td>\n",
       "      <td>Shalini</td>\n",
       "      <td>8 May 2023</td>\n",
       "      <td>1</td>\n",
       "      <td>0</td>\n",
       "      <td>2</td>\n",
       "      <td>0</td>\n",
       "      <td>Poor quality and not at all comfortable. You c...</td>\n",
       "      <td>0</td>\n",
       "    </tr>\n",
       "    <tr>\n",
       "      <th>5</th>\n",
       "      <td>1783</td>\n",
       "      <td>Prahlad</td>\n",
       "      <td>1 June 2023</td>\n",
       "      <td>1</td>\n",
       "      <td>1</td>\n",
       "      <td>6</td>\n",
       "      <td>0</td>\n",
       "      <td>I thought this shoe would last long but it tur...</td>\n",
       "      <td>0</td>\n",
       "    </tr>\n",
       "    <tr>\n",
       "      <th>6</th>\n",
       "      <td>1788</td>\n",
       "      <td>Parth Kholiya</td>\n",
       "      <td>10 June 2022</td>\n",
       "      <td>1</td>\n",
       "      <td>0</td>\n",
       "      <td>20</td>\n",
       "      <td>0</td>\n",
       "      <td>After having first wash sneakers display yello...</td>\n",
       "      <td>0</td>\n",
       "    </tr>\n",
       "    <tr>\n",
       "      <th>7</th>\n",
       "      <td>1805</td>\n",
       "      <td>Farhan Noor</td>\n",
       "      <td>1 Oct 2022</td>\n",
       "      <td>1</td>\n",
       "      <td>1</td>\n",
       "      <td>2</td>\n",
       "      <td>1</td>\n",
       "      <td>Stain will not get easily. Feeling uncomfortab...</td>\n",
       "      <td>0</td>\n",
       "    </tr>\n",
       "    <tr>\n",
       "      <th>8</th>\n",
       "      <td>1816</td>\n",
       "      <td>Shaurya Singh Bora</td>\n",
       "      <td>19 May 2023</td>\n",
       "      <td>1</td>\n",
       "      <td>0</td>\n",
       "      <td>7</td>\n",
       "      <td>1</td>\n",
       "      <td>FIRST OF all I would like to say that these sh...</td>\n",
       "      <td>0</td>\n",
       "    </tr>\n",
       "    <tr>\n",
       "      <th>9</th>\n",
       "      <td>1817</td>\n",
       "      <td>Shemi</td>\n",
       "      <td>28 Oct 2023</td>\n",
       "      <td>1</td>\n",
       "      <td>0</td>\n",
       "      <td>2</td>\n",
       "      <td>0</td>\n",
       "      <td>The shoe very difficult to clean once it gets ...</td>\n",
       "      <td>0</td>\n",
       "    </tr>\n",
       "  </tbody>\n",
       "</table>\n",
       "</div>"
      ],
      "text/plain": [
       "   Unnamed: 0                Name          Date  Rating  Images  Likes  \\\n",
       "0          36     Myntra Customer   17 Oct 2023       1       0      6   \n",
       "1        1141     Dhananjay Singh  21 July 2023       1       0      0   \n",
       "2        1451     Vijay Narasimha    1 Feb 2023       1       0      0   \n",
       "3        1589               Vijay    5 Mar 2024       1       0      0   \n",
       "4        1772             Shalini    8 May 2023       1       0      2   \n",
       "5        1783             Prahlad   1 June 2023       1       1      6   \n",
       "6        1788       Parth Kholiya  10 June 2022       1       0     20   \n",
       "7        1805         Farhan Noor    1 Oct 2022       1       1      2   \n",
       "8        1816  Shaurya Singh Bora   19 May 2023       1       0      7   \n",
       "9        1817               Shemi   28 Oct 2023       1       0      2   \n",
       "\n",
       "   Dislikes                                        Review Text  Class  \n",
       "0         1  Don't buy this white product, I wear this shoe...      0  \n",
       "1         0                                 It is good product      0  \n",
       "2         0                                               Good      0  \n",
       "3         0                                               Good      0  \n",
       "4         0  Poor quality and not at all comfortable. You c...      0  \n",
       "5         0  I thought this shoe would last long but it tur...      0  \n",
       "6         0  After having first wash sneakers display yello...      0  \n",
       "7         1  Stain will not get easily. Feeling uncomfortab...      0  \n",
       "8         1  FIRST OF all I would like to say that these sh...      0  \n",
       "9         0  The shoe very difficult to clean once it gets ...      0  "
      ]
     },
     "execution_count": 4,
     "metadata": {},
     "output_type": "execute_result"
    }
   ],
   "source": [
    "negative = pd.read_excel('NLP_1_star.xlsx')\n",
    "negative['Class']=0\n",
    "negative.head(10)"
   ]
  },
  {
   "cell_type": "code",
   "execution_count": 5,
   "id": "43a178ac",
   "metadata": {},
   "outputs": [
    {
     "data": {
      "text/html": [
       "<div>\n",
       "<style scoped>\n",
       "    .dataframe tbody tr th:only-of-type {\n",
       "        vertical-align: middle;\n",
       "    }\n",
       "\n",
       "    .dataframe tbody tr th {\n",
       "        vertical-align: top;\n",
       "    }\n",
       "\n",
       "    .dataframe thead th {\n",
       "        text-align: right;\n",
       "    }\n",
       "</style>\n",
       "<table border=\"1\" class=\"dataframe\">\n",
       "  <thead>\n",
       "    <tr style=\"text-align: right;\">\n",
       "      <th></th>\n",
       "      <th>Unnamed: 0</th>\n",
       "      <th>Name</th>\n",
       "      <th>Date</th>\n",
       "      <th>Rating</th>\n",
       "      <th>Images</th>\n",
       "      <th>Likes</th>\n",
       "      <th>Dislikes</th>\n",
       "      <th>Review Text</th>\n",
       "      <th>Class</th>\n",
       "    </tr>\n",
       "  </thead>\n",
       "  <tbody>\n",
       "    <tr>\n",
       "      <th>0</th>\n",
       "      <td>1442</td>\n",
       "      <td>Mallick Sahab</td>\n",
       "      <td>4 Nov 2023</td>\n",
       "      <td>5</td>\n",
       "      <td>0</td>\n",
       "      <td>0</td>\n",
       "      <td>0</td>\n",
       "      <td>very good</td>\n",
       "      <td>1</td>\n",
       "    </tr>\n",
       "    <tr>\n",
       "      <th>1</th>\n",
       "      <td>1342</td>\n",
       "      <td>Myntra Customer</td>\n",
       "      <td>29 Feb 2024</td>\n",
       "      <td>5</td>\n",
       "      <td>0</td>\n",
       "      <td>0</td>\n",
       "      <td>0</td>\n",
       "      <td>Nice shoe 👟</td>\n",
       "      <td>1</td>\n",
       "    </tr>\n",
       "    <tr>\n",
       "      <th>2</th>\n",
       "      <td>1858</td>\n",
       "      <td>Sanjeev Gangwar</td>\n",
       "      <td>29 Aug 2023</td>\n",
       "      <td>1</td>\n",
       "      <td>0</td>\n",
       "      <td>0</td>\n",
       "      <td>0</td>\n",
       "      <td>Very bad quality, colour faded in first wash ....</td>\n",
       "      <td>0</td>\n",
       "    </tr>\n",
       "    <tr>\n",
       "      <th>3</th>\n",
       "      <td>183</td>\n",
       "      <td>Manjunath</td>\n",
       "      <td>26 Aug 2023</td>\n",
       "      <td>5</td>\n",
       "      <td>1</td>\n",
       "      <td>0</td>\n",
       "      <td>0</td>\n",
       "      <td>Quality of material, fit &amp; finish of the shoe ...</td>\n",
       "      <td>1</td>\n",
       "    </tr>\n",
       "    <tr>\n",
       "      <th>4</th>\n",
       "      <td>1591</td>\n",
       "      <td>Rashmi Singh</td>\n",
       "      <td>19 Oct 2020</td>\n",
       "      <td>5</td>\n",
       "      <td>0</td>\n",
       "      <td>0</td>\n",
       "      <td>0</td>\n",
       "      <td>Ok</td>\n",
       "      <td>1</td>\n",
       "    </tr>\n",
       "  </tbody>\n",
       "</table>\n",
       "</div>"
      ],
      "text/plain": [
       "   Unnamed: 0             Name         Date  Rating  Images  Likes  Dislikes  \\\n",
       "0        1442    Mallick Sahab   4 Nov 2023       5       0      0         0   \n",
       "1        1342  Myntra Customer  29 Feb 2024       5       0      0         0   \n",
       "2        1858  Sanjeev Gangwar  29 Aug 2023       1       0      0         0   \n",
       "3         183        Manjunath  26 Aug 2023       5       1      0         0   \n",
       "4        1591     Rashmi Singh  19 Oct 2020       5       0      0         0   \n",
       "\n",
       "                                         Review Text  Class  \n",
       "0                                          very good      1  \n",
       "1                                        Nice shoe 👟      1  \n",
       "2  Very bad quality, colour faded in first wash ....      0  \n",
       "3  Quality of material, fit & finish of the shoe ...      1  \n",
       "4                                                 Ok      1  "
      ]
     },
     "execution_count": 5,
     "metadata": {},
     "output_type": "execute_result"
    }
   ],
   "source": [
    "data  = pd.concat([positive, negative], axis=0)\n",
    "data= data.sample(frac=1,random_state=1).reset_index(drop=True)\n",
    "data.head()"
   ]
  },
  {
   "cell_type": "markdown",
   "id": "c1fb7733",
   "metadata": {},
   "source": [
    "Note:\n",
    "The sample function is used to shuffle the dataset that further process wont be biased towards only once class."
   ]
  },
  {
   "cell_type": "code",
   "execution_count": 6,
   "id": "b01da030",
   "metadata": {},
   "outputs": [],
   "source": [
    "## Data cleaning\n",
    "lemmatizer = WordNetLemmatizer()\n",
    "stop_words = stopwords.words('english')"
   ]
  },
  {
   "cell_type": "code",
   "execution_count": 8,
   "id": "43887596",
   "metadata": {},
   "outputs": [
    {
     "name": "stderr",
     "output_type": "stream",
     "text": [
      "[nltk_data] Downloading package punkt to\n",
      "[nltk_data]     C:\\Users\\gokul\\AppData\\Roaming\\nltk_data...\n",
      "[nltk_data]   Package punkt is already up-to-date!\n",
      "[nltk_data] Downloading package wordnet to\n",
      "[nltk_data]     C:\\Users\\gokul\\AppData\\Roaming\\nltk_data...\n",
      "[nltk_data]   Package wordnet is already up-to-date!\n",
      "[nltk_data] Downloading package stopwords to\n",
      "[nltk_data]     C:\\Users\\gokul\\AppData\\Roaming\\nltk_data...\n",
      "[nltk_data]   Package stopwords is already up-to-date!\n"
     ]
    }
   ],
   "source": [
    "import re\n",
    "import nltk\n",
    "from nltk.stem import WordNetLemmatizer\n",
    "from nltk.corpus import stopwords\n",
    "\n",
    "# Initialize NLTK resources\n",
    "nltk.download('punkt')\n",
    "nltk.download('wordnet')\n",
    "nltk.download('stopwords')\n",
    "\n",
    "# Initialize lemmatizer and stopwords\n",
    "lemmatizer = WordNetLemmatizer()\n",
    "stop_words = set(stopwords.words(\"english\"))\n",
    "\n",
    "# Preprocessing function\n",
    "def preprocess(text):\n",
    "    if isinstance(text, str):  # Check if text is a string\n",
    "        text = text.lower()\n",
    "        text = text.strip()  # Get rid of leading/trailing whitespace\n",
    "        text = re.sub(r'[^a-zA-Z0-9\\s]', '', text)  # Remove all symbols which are not alphanumeric or whitespace\n",
    "        text = re.sub(r'X.*X', '', text)  # Remove all the masked words that start with 'X' and end with 'X'.\n",
    "        text = re.sub(r'x.*x', '', text)  # Remove all the masked words that start with 'x' and end with 'x'.\n",
    "        temp_sent = []\n",
    "        words = nltk.word_tokenize(text)\n",
    "        for word in words:\n",
    "            lemmatized = lemmatizer.lemmatize(word)\n",
    "            if lemmatized not in stop_words and lemmatized.isalpha() and len(lemmatized) > 2:\n",
    "                temp_sent.append(lemmatized)\n",
    "        finalsent = ' '.join(temp_sent)\n",
    "        return finalsent\n",
    "    else:\n",
    "        return ''  # Return empty string if the input is not a string\n",
    "\n",
    "# Apply the preprocessing function to your data, handling missing values gracefully\n",
    "data[\"Review\"] = data[\"Review Text\"].apply(preprocess)"
   ]
  },
  {
   "cell_type": "code",
   "execution_count": 9,
   "id": "14568b26",
   "metadata": {},
   "outputs": [
    {
     "data": {
      "text/html": [
       "<div>\n",
       "<style scoped>\n",
       "    .dataframe tbody tr th:only-of-type {\n",
       "        vertical-align: middle;\n",
       "    }\n",
       "\n",
       "    .dataframe tbody tr th {\n",
       "        vertical-align: top;\n",
       "    }\n",
       "\n",
       "    .dataframe thead th {\n",
       "        text-align: right;\n",
       "    }\n",
       "</style>\n",
       "<table border=\"1\" class=\"dataframe\">\n",
       "  <thead>\n",
       "    <tr style=\"text-align: right;\">\n",
       "      <th></th>\n",
       "      <th>Unnamed: 0</th>\n",
       "      <th>Name</th>\n",
       "      <th>Date</th>\n",
       "      <th>Rating</th>\n",
       "      <th>Images</th>\n",
       "      <th>Likes</th>\n",
       "      <th>Dislikes</th>\n",
       "      <th>Review Text</th>\n",
       "      <th>Class</th>\n",
       "      <th>Review</th>\n",
       "    </tr>\n",
       "  </thead>\n",
       "  <tbody>\n",
       "    <tr>\n",
       "      <th>0</th>\n",
       "      <td>1442</td>\n",
       "      <td>Mallick Sahab</td>\n",
       "      <td>4 Nov 2023</td>\n",
       "      <td>5</td>\n",
       "      <td>0</td>\n",
       "      <td>0</td>\n",
       "      <td>0</td>\n",
       "      <td>very good</td>\n",
       "      <td>1</td>\n",
       "      <td>good</td>\n",
       "    </tr>\n",
       "    <tr>\n",
       "      <th>1</th>\n",
       "      <td>1342</td>\n",
       "      <td>Myntra Customer</td>\n",
       "      <td>29 Feb 2024</td>\n",
       "      <td>5</td>\n",
       "      <td>0</td>\n",
       "      <td>0</td>\n",
       "      <td>0</td>\n",
       "      <td>Nice shoe 👟</td>\n",
       "      <td>1</td>\n",
       "      <td>nice shoe</td>\n",
       "    </tr>\n",
       "    <tr>\n",
       "      <th>2</th>\n",
       "      <td>1858</td>\n",
       "      <td>Sanjeev Gangwar</td>\n",
       "      <td>29 Aug 2023</td>\n",
       "      <td>1</td>\n",
       "      <td>0</td>\n",
       "      <td>0</td>\n",
       "      <td>0</td>\n",
       "      <td>Very bad quality, colour faded in first wash ....</td>\n",
       "      <td>0</td>\n",
       "      <td>bad quality colour faded first wash dont buy s...</td>\n",
       "    </tr>\n",
       "    <tr>\n",
       "      <th>3</th>\n",
       "      <td>183</td>\n",
       "      <td>Manjunath</td>\n",
       "      <td>26 Aug 2023</td>\n",
       "      <td>5</td>\n",
       "      <td>1</td>\n",
       "      <td>0</td>\n",
       "      <td>0</td>\n",
       "      <td>Quality of material, fit &amp; finish of the shoe ...</td>\n",
       "      <td>1</td>\n",
       "      <td>quality material fit finish shoe excellent wis...</td>\n",
       "    </tr>\n",
       "    <tr>\n",
       "      <th>4</th>\n",
       "      <td>1591</td>\n",
       "      <td>Rashmi Singh</td>\n",
       "      <td>19 Oct 2020</td>\n",
       "      <td>5</td>\n",
       "      <td>0</td>\n",
       "      <td>0</td>\n",
       "      <td>0</td>\n",
       "      <td>Ok</td>\n",
       "      <td>1</td>\n",
       "      <td></td>\n",
       "    </tr>\n",
       "    <tr>\n",
       "      <th>5</th>\n",
       "      <td>313</td>\n",
       "      <td>Roshan Jasuja</td>\n",
       "      <td>13 Oct 2023</td>\n",
       "      <td>5</td>\n",
       "      <td>0</td>\n",
       "      <td>0</td>\n",
       "      <td>0</td>\n",
       "      <td>Amazing Comfort. Not like other Bulky Soles. Q...</td>\n",
       "      <td>1</td>\n",
       "      <td>amazing comfort like bulky sol quality top class</td>\n",
       "    </tr>\n",
       "    <tr>\n",
       "      <th>6</th>\n",
       "      <td>635</td>\n",
       "      <td>Neha</td>\n",
       "      <td>10 June 2023</td>\n",
       "      <td>5</td>\n",
       "      <td>0</td>\n",
       "      <td>0</td>\n",
       "      <td>0</td>\n",
       "      <td>As shown in the image..go for it..</td>\n",
       "      <td>1</td>\n",
       "      <td>shown imagego</td>\n",
       "    </tr>\n",
       "    <tr>\n",
       "      <th>7</th>\n",
       "      <td>1051</td>\n",
       "      <td>Sonam Drema</td>\n",
       "      <td>12 Feb 2023</td>\n",
       "      <td>5</td>\n",
       "      <td>0</td>\n",
       "      <td>0</td>\n",
       "      <td>0</td>\n",
       "      <td>So good quality ?</td>\n",
       "      <td>1</td>\n",
       "      <td>good quality</td>\n",
       "    </tr>\n",
       "    <tr>\n",
       "      <th>8</th>\n",
       "      <td>1836</td>\n",
       "      <td>Sudhanshu</td>\n",
       "      <td>6 July 2023</td>\n",
       "      <td>1</td>\n",
       "      <td>0</td>\n",
       "      <td>1</td>\n",
       "      <td>0</td>\n",
       "      <td>The texture of fabric that we see in the pictu...</td>\n",
       "      <td>0</td>\n",
       "      <td>texture fabric see picture reality totally dif...</td>\n",
       "    </tr>\n",
       "    <tr>\n",
       "      <th>9</th>\n",
       "      <td>1046</td>\n",
       "      <td>Sopan Shinde</td>\n",
       "      <td>29 Sept 2022</td>\n",
       "      <td>5</td>\n",
       "      <td>0</td>\n",
       "      <td>0</td>\n",
       "      <td>0</td>\n",
       "      <td>Excellent product!!</td>\n",
       "      <td>1</td>\n",
       "      <td>excellent product</td>\n",
       "    </tr>\n",
       "  </tbody>\n",
       "</table>\n",
       "</div>"
      ],
      "text/plain": [
       "   Unnamed: 0             Name          Date  Rating  Images  Likes  Dislikes  \\\n",
       "0        1442    Mallick Sahab    4 Nov 2023       5       0      0         0   \n",
       "1        1342  Myntra Customer   29 Feb 2024       5       0      0         0   \n",
       "2        1858  Sanjeev Gangwar   29 Aug 2023       1       0      0         0   \n",
       "3         183        Manjunath   26 Aug 2023       5       1      0         0   \n",
       "4        1591     Rashmi Singh   19 Oct 2020       5       0      0         0   \n",
       "5         313    Roshan Jasuja   13 Oct 2023       5       0      0         0   \n",
       "6         635             Neha  10 June 2023       5       0      0         0   \n",
       "7        1051      Sonam Drema   12 Feb 2023       5       0      0         0   \n",
       "8        1836        Sudhanshu   6 July 2023       1       0      1         0   \n",
       "9        1046     Sopan Shinde  29 Sept 2022       5       0      0         0   \n",
       "\n",
       "                                         Review Text  Class  \\\n",
       "0                                          very good      1   \n",
       "1                                        Nice shoe 👟      1   \n",
       "2  Very bad quality, colour faded in first wash ....      0   \n",
       "3  Quality of material, fit & finish of the shoe ...      1   \n",
       "4                                                 Ok      1   \n",
       "5  Amazing Comfort. Not like other Bulky Soles. Q...      1   \n",
       "6                 As shown in the image..go for it..      1   \n",
       "7                                  So good quality ?      1   \n",
       "8  The texture of fabric that we see in the pictu...      0   \n",
       "9                                Excellent product!!      1   \n",
       "\n",
       "                                              Review  \n",
       "0                                               good  \n",
       "1                                          nice shoe  \n",
       "2  bad quality colour faded first wash dont buy s...  \n",
       "3  quality material fit finish shoe excellent wis...  \n",
       "4                                                     \n",
       "5   amazing comfort like bulky sol quality top class  \n",
       "6                                      shown imagego  \n",
       "7                                       good quality  \n",
       "8  texture fabric see picture reality totally dif...  \n",
       "9                                  excellent product  "
      ]
     },
     "execution_count": 9,
     "metadata": {},
     "output_type": "execute_result"
    }
   ],
   "source": [
    "data.head(10)"
   ]
  },
  {
   "cell_type": "markdown",
   "id": "7025f13a",
   "metadata": {},
   "source": [
    "**Report**:\n",
    "\n",
    "We have 2 datasets which are 5 star rated reviews and 1 star rated reviews. we have clubbed them into a single dataset to use for all 4 phases of the project. 5 start rated reviews are considered the +ve reviews as all of them are positive points about the product. Similarly, 1 star rated reviews are considered -ve reviews as all of them are mostly negative points about the product."
   ]
  },
  {
   "cell_type": "markdown",
   "id": "57759c52",
   "metadata": {},
   "source": [
    "# Phase 1"
   ]
  },
  {
   "cell_type": "markdown",
   "id": "326dd717",
   "metadata": {},
   "source": [
    "# Sentinment analysis on the whole product"
   ]
  },
  {
   "cell_type": "code",
   "execution_count": 11,
   "id": "869e88c8",
   "metadata": {},
   "outputs": [
    {
     "data": {
      "text/html": [
       "<div>\n",
       "<style scoped>\n",
       "    .dataframe tbody tr th:only-of-type {\n",
       "        vertical-align: middle;\n",
       "    }\n",
       "\n",
       "    .dataframe tbody tr th {\n",
       "        vertical-align: top;\n",
       "    }\n",
       "\n",
       "    .dataframe thead th {\n",
       "        text-align: right;\n",
       "    }\n",
       "</style>\n",
       "<table border=\"1\" class=\"dataframe\">\n",
       "  <thead>\n",
       "    <tr style=\"text-align: right;\">\n",
       "      <th></th>\n",
       "      <th>Review</th>\n",
       "    </tr>\n",
       "  </thead>\n",
       "  <tbody>\n",
       "    <tr>\n",
       "      <th>0</th>\n",
       "      <td>good</td>\n",
       "    </tr>\n",
       "    <tr>\n",
       "      <th>1</th>\n",
       "      <td>nice shoe</td>\n",
       "    </tr>\n",
       "    <tr>\n",
       "      <th>2</th>\n",
       "      <td>bad quality colour faded first wash dont buy s...</td>\n",
       "    </tr>\n",
       "    <tr>\n",
       "      <th>3</th>\n",
       "      <td>quality material fit finish shoe excellent wis...</td>\n",
       "    </tr>\n",
       "    <tr>\n",
       "      <th>4</th>\n",
       "      <td></td>\n",
       "    </tr>\n",
       "    <tr>\n",
       "      <th>5</th>\n",
       "      <td>amazing comfort like bulky sol quality top class</td>\n",
       "    </tr>\n",
       "    <tr>\n",
       "      <th>6</th>\n",
       "      <td>shown imagego</td>\n",
       "    </tr>\n",
       "    <tr>\n",
       "      <th>7</th>\n",
       "      <td>good quality</td>\n",
       "    </tr>\n",
       "    <tr>\n",
       "      <th>8</th>\n",
       "      <td>texture fabric see picture reality totally dif...</td>\n",
       "    </tr>\n",
       "    <tr>\n",
       "      <th>9</th>\n",
       "      <td>excellent product</td>\n",
       "    </tr>\n",
       "  </tbody>\n",
       "</table>\n",
       "</div>"
      ],
      "text/plain": [
       "                                              Review\n",
       "0                                               good\n",
       "1                                          nice shoe\n",
       "2  bad quality colour faded first wash dont buy s...\n",
       "3  quality material fit finish shoe excellent wis...\n",
       "4                                                   \n",
       "5   amazing comfort like bulky sol quality top class\n",
       "6                                      shown imagego\n",
       "7                                       good quality\n",
       "8  texture fabric see picture reality totally dif...\n",
       "9                                  excellent product"
      ]
     },
     "execution_count": 11,
     "metadata": {},
     "output_type": "execute_result"
    }
   ],
   "source": [
    "phase1_data = data[['Review']]\n",
    "phase1_data.head(10)"
   ]
  },
  {
   "cell_type": "code",
   "execution_count": 12,
   "id": "b66f7599",
   "metadata": {},
   "outputs": [],
   "source": [
    "\n",
    "# Define function to perform sentiment analysis on each review\n",
    "def get_sentiment(review):\n",
    "    analysis = TextBlob(review)\n",
    "    polarity = analysis.sentiment.polarity\n",
    "    if polarity > 0:\n",
    "        return 1\n",
    "    else:\n",
    "        return 0\n"
   ]
  },
  {
   "cell_type": "code",
   "execution_count": 13,
   "id": "c4275243",
   "metadata": {},
   "outputs": [],
   "source": [
    "# Apply sentiment analysis to dataset\n",
    "phase1_data['Sentiment'] = phase1_data['Review'].apply(get_sentiment)"
   ]
  },
  {
   "cell_type": "markdown",
   "id": "34eb3492",
   "metadata": {},
   "source": [
    "**Note**:\n",
    "    \n",
    "Using the textblob library we find the polarity of the sentences. The polarities will be between -1 to 1. So, if any statement with polarity <0 then they are inclined to -ve review and viceversa."
   ]
  },
  {
   "cell_type": "code",
   "execution_count": 14,
   "id": "5f4b4f77",
   "metadata": {},
   "outputs": [
    {
     "data": {
      "text/html": [
       "<div>\n",
       "<style scoped>\n",
       "    .dataframe tbody tr th:only-of-type {\n",
       "        vertical-align: middle;\n",
       "    }\n",
       "\n",
       "    .dataframe tbody tr th {\n",
       "        vertical-align: top;\n",
       "    }\n",
       "\n",
       "    .dataframe thead th {\n",
       "        text-align: right;\n",
       "    }\n",
       "</style>\n",
       "<table border=\"1\" class=\"dataframe\">\n",
       "  <thead>\n",
       "    <tr style=\"text-align: right;\">\n",
       "      <th></th>\n",
       "      <th>Review</th>\n",
       "      <th>Sentiment</th>\n",
       "    </tr>\n",
       "  </thead>\n",
       "  <tbody>\n",
       "    <tr>\n",
       "      <th>0</th>\n",
       "      <td>good</td>\n",
       "      <td>1</td>\n",
       "    </tr>\n",
       "    <tr>\n",
       "      <th>1</th>\n",
       "      <td>nice shoe</td>\n",
       "      <td>1</td>\n",
       "    </tr>\n",
       "    <tr>\n",
       "      <th>2</th>\n",
       "      <td>bad quality colour faded first wash dont buy s...</td>\n",
       "      <td>0</td>\n",
       "    </tr>\n",
       "    <tr>\n",
       "      <th>3</th>\n",
       "      <td>quality material fit finish shoe excellent wis...</td>\n",
       "      <td>1</td>\n",
       "    </tr>\n",
       "    <tr>\n",
       "      <th>4</th>\n",
       "      <td></td>\n",
       "      <td>0</td>\n",
       "    </tr>\n",
       "    <tr>\n",
       "      <th>5</th>\n",
       "      <td>amazing comfort like bulky sol quality top class</td>\n",
       "      <td>1</td>\n",
       "    </tr>\n",
       "    <tr>\n",
       "      <th>6</th>\n",
       "      <td>shown imagego</td>\n",
       "      <td>0</td>\n",
       "    </tr>\n",
       "    <tr>\n",
       "      <th>7</th>\n",
       "      <td>good quality</td>\n",
       "      <td>1</td>\n",
       "    </tr>\n",
       "    <tr>\n",
       "      <th>8</th>\n",
       "      <td>texture fabric see picture reality totally dif...</td>\n",
       "      <td>1</td>\n",
       "    </tr>\n",
       "    <tr>\n",
       "      <th>9</th>\n",
       "      <td>excellent product</td>\n",
       "      <td>1</td>\n",
       "    </tr>\n",
       "  </tbody>\n",
       "</table>\n",
       "</div>"
      ],
      "text/plain": [
       "                                              Review  Sentiment\n",
       "0                                               good          1\n",
       "1                                          nice shoe          1\n",
       "2  bad quality colour faded first wash dont buy s...          0\n",
       "3  quality material fit finish shoe excellent wis...          1\n",
       "4                                                             0\n",
       "5   amazing comfort like bulky sol quality top class          1\n",
       "6                                      shown imagego          0\n",
       "7                                       good quality          1\n",
       "8  texture fabric see picture reality totally dif...          1\n",
       "9                                  excellent product          1"
      ]
     },
     "execution_count": 14,
     "metadata": {},
     "output_type": "execute_result"
    }
   ],
   "source": [
    "phase1_data.head(10)"
   ]
  },
  {
   "cell_type": "code",
   "execution_count": 221,
   "id": "6d91fe94",
   "metadata": {},
   "outputs": [
    {
     "data": {
      "text/plain": [
       "(1702, 2)"
      ]
     },
     "execution_count": 221,
     "metadata": {},
     "output_type": "execute_result"
    }
   ],
   "source": [
    "phase1_data.shape"
   ]
  },
  {
   "cell_type": "code",
   "execution_count": 15,
   "id": "d41f57a1",
   "metadata": {},
   "outputs": [],
   "source": [
    "pos_rev = phase1_data[phase1_data['Sentiment']==1]\n",
    "neg_rev = phase1_data[phase1_data['Sentiment']==0]"
   ]
  },
  {
   "cell_type": "markdown",
   "id": "fbb078ff",
   "metadata": {},
   "source": [
    "# Clustering on Positive reviews"
   ]
  },
  {
   "cell_type": "code",
   "execution_count": 19,
   "id": "d4df6ab8",
   "metadata": {},
   "outputs": [
    {
     "name": "stdout",
     "output_type": "stream",
     "text": [
      "(1201, 95)\n"
     ]
    }
   ],
   "source": [
    "from sklearn.feature_extraction.text import TfidfVectorizer\n",
    "\n",
    "# Initialize TF-IDF vectorizer\n",
    "tfidf = TfidfVectorizer(ngram_range=(1, 2), min_df=10, max_df=0.5)\n",
    "\n",
    "# Fit and transform the data\n",
    "tfidf_matrix = tfidf.fit_transform(pos_rev['Review'])\n",
    "\n",
    "# Check the shape of the matrix\n",
    "print(tfidf_matrix.shape)"
   ]
  },
  {
   "cell_type": "markdown",
   "id": "b4fe516d",
   "metadata": {},
   "source": [
    "**Note**:\n",
    "    \n",
    "Here we are taking single words and those words should be repeated in minimum 10 times (min_df) and appeared at max in 50% of the rows(max_df)."
   ]
  },
  {
   "cell_type": "code",
   "execution_count": 20,
   "id": "2a4c4c41",
   "metadata": {},
   "outputs": [
    {
     "name": "stdout",
     "output_type": "stream",
     "text": [
      "CLUSTER #1\n",
      "Key Features: ['nice', 'product', 'awesome', 'comfortable', 'quality', 'best', 'amazing', 'love', 'loved', 'perfect', 'excellent', 'look', 'myntra', 'sneaker', 'super']\n",
      "--------------------------------------------------------------------------------\n",
      "CLUSTER #2\n",
      "Key Features: ['good', 'quality', 'good quality', 'shoe', 'quality good', 'comfortable', 'quality shoe', 'material', 'product', 'also', 'colour', 'nice', 'shoe good', 'look', 'fit']\n",
      "--------------------------------------------------------------------------------\n",
      "CLUSTER #3\n",
      "Key Features: ['shoe', 'nice', 'nice shoe', 'comfortable', 'good', 'myntra', 'size', 'quality', 'best', 'great', 'one', 'look', 'awesome', 'good shoe', 'amazing']\n",
      "--------------------------------------------------------------------------------\n",
      "CLUSTER #4\n",
      "Key Features: ['good', 'product', 'good product', 'comfortable', 'look', 'one', 'size', 'myntra', 'looking', 'shoe', 'look good', 'product good', 'overall', 'delivery', 'much']\n",
      "--------------------------------------------------------------------------------\n",
      "CLUSTER #5\n",
      "Key Features: ['product', 'quality', 'good', 'product quality', 'quality good', 'myntra', 'quality product', 'shoe', 'best', 'good product', 'brand', 'buy', 'happy', 'best quality', 'product good']\n",
      "--------------------------------------------------------------------------------\n",
      "CLUSTER #6\n",
      "Key Features: ['product', 'nice', 'nice product', 'good', 'comfortable', 'size', 'like', 'loved', 'perfect', 'price', 'product good', 'quality', 'shoe', 'worth', 'must']\n",
      "--------------------------------------------------------------------------------\n"
     ]
    }
   ],
   "source": [
    "# Let us build the first model \n",
    "NUM_CLUSTERS = 6\n",
    "km1 = KMeans(n_clusters=NUM_CLUSTERS, max_iter=100, n_init=15, random_state=42).fit(cv_matrix)\n",
    "\n",
    "pos_rev['kmeans_cluster'] = km1.labels_\n",
    "\n",
    "pos_clusters = (pos_rev[['Review', 'Sentiment','kmeans_cluster']]\n",
    "                  .sort_values(by=['Sentiment'], \n",
    "                               ascending=False)\n",
    "                  .groupby('kmeans_cluster').head(20))\n",
    "\n",
    "feature_names = cv.get_feature_names_out()\n",
    "topn_features = 15\n",
    "ordered_centroids = km1.cluster_centers_.argsort()[:, ::-1]\n",
    "\n",
    "# get key features for each cluster\n",
    "for cluster_num in range(NUM_CLUSTERS):\n",
    "    key_features = [feature_names[index] \n",
    "                        for index in ordered_centroids[cluster_num, :topn_features]]\n",
    "    print('CLUSTER #'+str(cluster_num+1))\n",
    "    print('Key Features:', key_features)\n",
    "    print('-'*80)"
   ]
  },
  {
   "cell_type": "code",
   "execution_count": 21,
   "id": "9c448a21",
   "metadata": {},
   "outputs": [
    {
     "data": {
      "text/plain": [
       "[3496.7867257290504,\n",
       " 3220.175698580476,\n",
       " 3049.018154097633,\n",
       " 2972.9502873669926,\n",
       " 2916.45318384933,\n",
       " 2806.0209306962006]"
      ]
     },
     "execution_count": 21,
     "metadata": {},
     "output_type": "execute_result"
    }
   ],
   "source": [
    "css = [] \n",
    "for i in range(2, 8): \n",
    "    kmeans = KMeans(n_clusters=i, max_iter=100, n_init=10, random_state=42).fit(cv_matrix)\n",
    "    css.append(kmeans.inertia_)\n",
    "\n",
    "css"
   ]
  },
  {
   "cell_type": "code",
   "execution_count": 22,
   "id": "2d4bc23c",
   "metadata": {},
   "outputs": [
    {
     "data": {
      "image/png": "[encoded data removed]",
      "text/plain": [
       "<Figure size 640x480 with 1 Axes>"
      ]
     },
     "metadata": {},
     "output_type": "display_data"
    }
   ],
   "source": [
    "plt.plot(range(2, 8), css)\n",
    "plt.xlabel('Number of clusters')\n",
    "plt.ylabel('CSS') \n",
    "plt.show()"
   ]
  },
  {
   "cell_type": "markdown",
   "id": "19fe432a",
   "metadata": {},
   "source": [
    "**Note**:\n",
    "    \n",
    "The elbow is kind of at 4 clusters so lets proceed clustering with 4 clusters"
   ]
  },
  {
   "cell_type": "code",
   "execution_count": 23,
   "id": "66a1a48a",
   "metadata": {},
   "outputs": [
    {
     "name": "stdout",
     "output_type": "stream",
     "text": [
      "CLUSTER #1\n",
      "Key Features: ['product', 'nice', 'nice product', 'quality', 'awesome', 'myntra', 'amazing', 'best', 'good', 'excellent', 'awesome product', 'comfortable', 'excellent product', 'loved', 'price', 'shoe', 'love', 'amazing product', 'buy', 'size']\n",
      "--------------------------------------------------------------------------------\n",
      "CLUSTER #2\n",
      "Key Features: ['good', 'product', 'quality', 'good product', 'good quality', 'shoe', 'quality good', 'comfortable', 'look', 'one', 'size', 'good shoe', 'myntra', 'looking', 'look good', 'product good', 'product quality', 'worth', 'material', 'nice']\n",
      "--------------------------------------------------------------------------------\n",
      "CLUSTER #3\n",
      "Key Features: ['shoe', 'nice', 'nice shoe', 'comfortable', 'myntra', 'good', 'quality', 'size', 'best', 'one', 'great', 'look', 'awesome', 'amazing', 'white', 'get', 'wash', 'pair', 'polo', 'perfect']\n",
      "--------------------------------------------------------------------------------\n",
      "CLUSTER #4\n",
      "Key Features: ['nice', 'comfortable', 'quality', 'awesome', 'best', 'perfect', 'look', 'love', 'loved', 'sneaker', 'amazing', 'superb', 'super', 'one', 'fit', 'buy', 'myntra', 'excellent', 'thanks', 'great']\n",
      "--------------------------------------------------------------------------------\n"
     ]
    }
   ],
   "source": [
    "# Let us build the first model \n",
    "NUM_CLUSTERS = 4\n",
    "km1 = KMeans(n_clusters=NUM_CLUSTERS, max_iter=100, n_init=15, random_state=42).fit(cv_matrix)\n",
    "\n",
    "pos_rev['kmeans_cluster'] = km1.labels_\n",
    "\n",
    "pos_clusters = (pos_rev[['Review', 'Sentiment','kmeans_cluster']]\n",
    "                  .sort_values(by=['Sentiment'], \n",
    "                               ascending=False)\n",
    "                  .groupby('kmeans_cluster').head(20))\n",
    "\n",
    "feature_names = cv.get_feature_names_out()\n",
    "topn_features = 20\n",
    "ordered_centroids = km1.cluster_centers_.argsort()[:, ::-1]\n",
    "\n",
    "# get key features for each cluster\n",
    "# get movies belonging to each cluster\n",
    "for cluster_num in range(NUM_CLUSTERS):\n",
    "    key_features = [feature_names[index] \n",
    "                        for index in ordered_centroids[cluster_num, :topn_features]]\n",
    "    print('CLUSTER #'+str(cluster_num+1))\n",
    "    print('Key Features:', key_features)\n",
    "    print('-'*80)"
   ]
  },
  {
   "cell_type": "markdown",
   "id": "656995dd",
   "metadata": {},
   "source": [
    "**Note : Names of the clusters can be** -\n",
    "    \n",
    "1) CLUSTER 1: Positive Product Reviews\n",
    "2) CLUSTER 2: Good Quality Shoes\n",
    "3) CLUSTER 3: Comfortable Shoes\n",
    "4) CLUSTER 4: Highly Rated Sneakers"
   ]
  },
  {
   "cell_type": "markdown",
   "id": "ae59adda",
   "metadata": {},
   "source": [
    "# Topic modeling for positive reviews"
   ]
  },
  {
   "cell_type": "code",
   "execution_count": 49,
   "id": "564212c8",
   "metadata": {},
   "outputs": [],
   "source": [
    "vectorizer_tf = TfidfVectorizer(max_df=0.75, min_df=50, max_features=6000)\n",
    "tf_vectors = vectorizer_tf.fit_transform(pos_rev.Review) "
   ]
  },
  {
   "cell_type": "code",
   "execution_count": 50,
   "id": "a66089cc",
   "metadata": {},
   "outputs": [],
   "source": [
    "lda = decomposition.LatentDirichletAllocation(n_components=10, max_iter=5, learning_method='online', learning_offset=50, n_jobs=-1, random_state=111)\n",
    "\n",
    "W1 = lda.fit_transform(tf_vectors)\n",
    "H1 = lda.components_"
   ]
  },
  {
   "cell_type": "code",
   "execution_count": 51,
   "id": "477461a3",
   "metadata": {},
   "outputs": [],
   "source": [
    "num_words=10\n",
    "\n",
    "vocab = np.array(vectorizer_tf.get_feature_names_out())\n",
    "\n",
    "top_words = lambda t: [vocab[i] for i in np.argsort(t)[:-num_words-1:-1]]\n",
    "topic_words = ([top_words(t) for t in H1])\n",
    "topics = [' '.join(t) for t in topic_words]"
   ]
  },
  {
   "cell_type": "code",
   "execution_count": 52,
   "id": "8ec8ab85",
   "metadata": {},
   "outputs": [
    {
     "data": {
      "text/plain": [
       "{'good product nice shoe',\n",
       " 'good shoe nice product',\n",
       " 'nice product good shoe',\n",
       " 'nice shoe product good',\n",
       " 'product good shoe nice',\n",
       " 'product shoe good nice',\n",
       " 'product shoe nice good',\n",
       " 'shoe nice good product',\n",
       " 'shoe nice product good'}"
      ]
     },
     "execution_count": 52,
     "metadata": {},
     "output_type": "execute_result"
    }
   ],
   "source": [
    "set(topics)"
   ]
  },
  {
   "cell_type": "markdown",
   "id": "268910b0",
   "metadata": {},
   "source": [
    "**Report**:\n",
    "\n",
    "From the clustering of the positive reviews we can see good, amazing, nice shoe, comfortable, etc... are defining the positive things about the product. To support these cluters the topic modeling also gave similar topics as result. So, as far as product is considered good quality, comfortable and nice shoes are mostly praised by users."
   ]
  },
  {
   "cell_type": "markdown",
   "id": "4fddf918",
   "metadata": {},
   "source": [
    "# Clustering for negative reviews"
   ]
  },
  {
   "cell_type": "code",
   "execution_count": 59,
   "id": "61112cb1",
   "metadata": {},
   "outputs": [
    {
     "data": {
      "text/plain": [
       "(110, 15)"
      ]
     },
     "execution_count": 59,
     "metadata": {},
     "output_type": "execute_result"
    }
   ],
   "source": [
    "# clustering Positive reviews\n",
    "cv = CountVectorizer(ngram_range=(1, 2), min_df=8, max_df=0.3)\n",
    "cv_matrix = cv.fit_transform(neg_rev['Review'])\n",
    "cv_matrix.shape"
   ]
  },
  {
   "cell_type": "markdown",
   "id": "79a9af00",
   "metadata": {},
   "source": [
    "**Note:**\n",
    "Here we are taking single words and those words should be repeated in minimum 8 times (min_df) and appeared at max in 30% of the rows(max_df)."
   ]
  },
  {
   "cell_type": "code",
   "execution_count": 60,
   "id": "256cc6ae",
   "metadata": {},
   "outputs": [
    {
     "name": "stdout",
     "output_type": "stream",
     "text": [
      "CLUSTER #1\n",
      "Key Features: ['shoe', 'time', 'worst', 'buy', 'bad', 'wash', 'dont', 'bad quality', 'yellow', 'washing', 'product', 'one', 'colour', 'quality product', 'poor']\n",
      "--------------------------------------------------------------------------------\n",
      "CLUSTER #2\n",
      "Key Features: ['product', 'quality product', 'bad', 'dont', 'yellow', 'worst', 'wash', 'shoe', 'poor', 'bad quality', 'time', 'one', 'colour', 'washing', 'buy']\n",
      "--------------------------------------------------------------------------------\n",
      "CLUSTER #3\n",
      "Key Features: ['bad', 'worst', 'washing', 'wash', 'poor', 'bad quality', 'yellow', 'colour', 'one', 'dont', 'buy', 'time', 'shoe', 'quality product', 'product']\n",
      "--------------------------------------------------------------------------------\n",
      "CLUSTER #4\n",
      "Key Features: ['washing', 'time', 'product', 'shoe', 'colour', 'bad', 'yellow', 'worst', 'wash', 'quality product', 'poor', 'one', 'dont', 'buy', 'bad quality']\n",
      "--------------------------------------------------------------------------------\n",
      "CLUSTER #5\n",
      "Key Features: ['shoe', 'one', 'colour', 'wash', 'dont', 'buy', 'yellow', 'time', 'poor', 'bad quality', 'bad', 'worst', 'washing', 'quality product', 'product']\n",
      "--------------------------------------------------------------------------------\n",
      "CLUSTER #6\n",
      "Key Features: ['colour', 'yellow', 'worst', 'shoe', 'wash', 'dont', 'product', 'one', 'washing', 'time', 'quality product', 'poor', 'buy', 'bad quality', 'bad']\n",
      "--------------------------------------------------------------------------------\n"
     ]
    }
   ],
   "source": [
    "# Let us build the first model \n",
    "NUM_CLUSTERS = 6\n",
    "km1 = KMeans(n_clusters=NUM_CLUSTERS, max_iter=100, n_init=15, random_state=42).fit(cv_matrix)\n",
    "\n",
    "neg_rev['kmeans_cluster'] = km1.labels_\n",
    "\n",
    "neg_clusters = (neg_rev[['Review', 'Sentiment','kmeans_cluster']]\n",
    "                  .sort_values(by=['Sentiment'], \n",
    "                               ascending=False)\n",
    "                  .groupby('kmeans_cluster').head(20))\n",
    "\n",
    "feature_names = cv.get_feature_names_out()\n",
    "topn_features = 15\n",
    "ordered_centroids = km1.cluster_centers_.argsort()[:, ::-1]\n",
    "\n",
    "# get key features for each cluster\n",
    "# get movies belonging to each cluster\n",
    "for cluster_num in range(NUM_CLUSTERS):\n",
    "    key_features = [feature_names[index] \n",
    "                        for index in ordered_centroids[cluster_num, :topn_features]]\n",
    "    print('CLUSTER #'+str(cluster_num+1))\n",
    "    print('Key Features:', key_features)\n",
    "    print('-'*80)"
   ]
  },
  {
   "cell_type": "code",
   "execution_count": 61,
   "id": "94567fa8",
   "metadata": {},
   "outputs": [
    {
     "data": {
      "text/plain": [
       "[186.47516025641028,\n",
       " 161.93382352941177,\n",
       " 147.77884615384613,\n",
       " 136.84153149364752,\n",
       " 125.07824815662346,\n",
       " 115.15702614379086]"
      ]
     },
     "execution_count": 61,
     "metadata": {},
     "output_type": "execute_result"
    }
   ],
   "source": [
    "css = [] \n",
    "for i in range(2, 8): \n",
    "    kmeans = KMeans(n_clusters=i, max_iter=100, n_init=10, random_state=42).fit(cv_matrix)\n",
    "    css.append(kmeans.inertia_)\n",
    "\n",
    "css"
   ]
  },
  {
   "cell_type": "code",
   "execution_count": 62,
   "id": "50b8cd75",
   "metadata": {},
   "outputs": [
    {
     "data": {
      "image/png": "[encoded data removed]",
      "text/plain": [
       "<Figure size 640x480 with 1 Axes>"
      ]
     },
     "metadata": {},
     "output_type": "display_data"
    }
   ],
   "source": [
    "plt.plot(range(2, 8), css)\n",
    "plt.xlabel('Number of clusters')\n",
    "plt.ylabel('CSS') \n",
    "plt.show()"
   ]
  },
  {
   "cell_type": "markdown",
   "id": "f279006f",
   "metadata": {},
   "source": [
    "**Note:**\n",
    "    \n",
    "The elbow is kind of at 3 clusters so lets proceed clustering with 4 clusters"
   ]
  },
  {
   "cell_type": "code",
   "execution_count": 63,
   "id": "dc763105",
   "metadata": {},
   "outputs": [
    {
     "name": "stdout",
     "output_type": "stream",
     "text": [
      "CLUSTER #1\n",
      "Key Features: ['colour', 'shoe', 'one', 'dont', 'wash', 'yellow', 'buy', 'worst', 'time', 'bad quality', 'bad', 'product', 'washing', 'quality product', 'poor']\n",
      "--------------------------------------------------------------------------------\n",
      "CLUSTER #2\n",
      "Key Features: ['shoe', 'bad', 'wash', 'worst', 'washing', 'poor', 'bad quality', 'yellow', 'one', 'colour', 'buy', 'dont', 'time', 'quality product', 'product']\n",
      "--------------------------------------------------------------------------------\n",
      "CLUSTER #3\n",
      "Key Features: ['product', 'quality product', 'bad', 'worst', 'time', 'shoe', 'dont', 'yellow', 'washing', 'wash', 'poor', 'colour', 'bad quality', 'one', 'buy']\n",
      "--------------------------------------------------------------------------------\n"
     ]
    }
   ],
   "source": [
    "# Let us build the first model \n",
    "NUM_CLUSTERS = 3\n",
    "km1 = KMeans(n_clusters=NUM_CLUSTERS, max_iter=100, n_init=15, random_state=42).fit(cv_matrix)\n",
    "\n",
    "neg_rev['kmeans_cluster'] = km1.labels_\n",
    "\n",
    "neg_clusters = (neg_rev[['Review', 'Sentiment','kmeans_cluster']]\n",
    "                  .sort_values(by=['Sentiment'], \n",
    "                               ascending=False)\n",
    "                  .groupby('kmeans_cluster').head(20))\n",
    "\n",
    "feature_names = cv.get_feature_names_out()\n",
    "topn_features = 20\n",
    "ordered_centroids = km1.cluster_centers_.argsort()[:, ::-1]\n",
    "\n",
    "# get key features for each cluster\n",
    "# get movies belonging to each cluster\n",
    "for cluster_num in range(NUM_CLUSTERS):\n",
    "    key_features = [feature_names[index] \n",
    "                        for index in ordered_centroids[cluster_num, :topn_features]]\n",
    "    print('CLUSTER #'+str(cluster_num+1))\n",
    "    print('Key Features:', key_features)\n",
    "    print('-'*80)"
   ]
  },
  {
   "cell_type": "markdown",
   "id": "ba181b6d",
   "metadata": {},
   "source": [
    "**Notes: names of the clusters can be -**\n",
    "1) CLUSTER 1: Negative Quality Reviews\n",
    "2) CLUSTER 2: Disappointing Purchase Experience\n",
    "3) CLUSTER 3: Warning Against Purchase"
   ]
  },
  {
   "cell_type": "markdown",
   "id": "9e0c4992",
   "metadata": {},
   "source": [
    "## Topic modeling for negative reviews"
   ]
  },
  {
   "cell_type": "code",
   "execution_count": 64,
   "id": "4df712e0",
   "metadata": {},
   "outputs": [],
   "source": [
    "vectorizer_tf = TfidfVectorizer(max_df=0.75, min_df=10, max_features=6000)\n",
    "tf_vectors = vectorizer_tf.fit_transform(neg_rev.Review)"
   ]
  },
  {
   "cell_type": "code",
   "execution_count": 65,
   "id": "82a208f0",
   "metadata": {},
   "outputs": [],
   "source": [
    "lda = decomposition.LatentDirichletAllocation(n_components=10, max_iter=5, learning_method='online', learning_offset=50, n_jobs=-1, random_state=111)\n",
    "\n",
    "W1 = lda.fit_transform(tf_vectors)\n",
    "H1 = lda.components_"
   ]
  },
  {
   "cell_type": "code",
   "execution_count": 67,
   "id": "fac0067f",
   "metadata": {},
   "outputs": [],
   "source": [
    "num_words=15\n",
    "\n",
    "vocab = np.array(vectorizer_tf.get_feature_names_out())\n",
    "\n",
    "top_words = lambda t: [vocab[i] for i in np.argsort(t)[:-num_words-1:-1]]\n",
    "topic_words = ([top_words(t) for t in H1])\n",
    "topics = [' '.join(t) for t in topic_words]"
   ]
  },
  {
   "cell_type": "code",
   "execution_count": 68,
   "id": "d17be0b5",
   "metadata": {},
   "outputs": [
    {
     "data": {
      "text/plain": [
       "{'colour shoe one wash product dont worst bad quality',\n",
       " 'colour wash product bad one quality shoe dont worst',\n",
       " 'colour wash product worst dont shoe bad quality one',\n",
       " 'dont shoe colour quality bad one worst wash product',\n",
       " 'one shoe wash colour bad quality dont product worst',\n",
       " 'product dont one colour worst shoe bad quality wash',\n",
       " 'quality bad shoe product colour worst dont one wash',\n",
       " 'quality product bad shoe dont wash colour one worst',\n",
       " 'shoe bad quality wash dont product worst colour one',\n",
       " 'worst shoe quality product bad dont one colour wash'}"
      ]
     },
     "execution_count": 68,
     "metadata": {},
     "output_type": "execute_result"
    }
   ],
   "source": [
    "set(topics)"
   ]
  },
  {
   "cell_type": "markdown",
   "id": "678d261f",
   "metadata": {},
   "source": [
    "**Report:**\n",
    "    \n",
    "From the clustering of the negative reviews we can see problems while washing, color quality,  are defining the negative things about the product. To support these cluters the topic modeling also gave moslty similar topics as result. So, as far as product is considered cone time wash product and gradual fading of color are most dissapointing aspects to the users. "
   ]
  },
  {
   "cell_type": "markdown",
   "id": "11168626",
   "metadata": {},
   "source": [
    "# Phase 2"
   ]
  },
  {
   "cell_type": "code",
   "execution_count": 69,
   "id": "f3422a14",
   "metadata": {},
   "outputs": [],
   "source": [
    "#407 is the top 25% no of rows in the phase1 data \n",
    "phase2_data=phase1_data.head(407)"
   ]
  },
  {
   "cell_type": "code",
   "execution_count": 70,
   "id": "b083d54d",
   "metadata": {},
   "outputs": [
    {
     "name": "stdout",
     "output_type": "stream",
     "text": [
      "<class 'pandas.core.frame.DataFrame'>\n",
      "RangeIndex: 407 entries, 0 to 406\n",
      "Data columns (total 2 columns):\n",
      " #   Column     Non-Null Count  Dtype \n",
      "---  ------     --------------  ----- \n",
      " 0   Review     407 non-null    object\n",
      " 1   Sentiment  407 non-null    int64 \n",
      "dtypes: int64(1), object(1)\n",
      "memory usage: 6.5+ KB\n"
     ]
    }
   ],
   "source": [
    "phase2_data.info()"
   ]
  },
  {
   "cell_type": "code",
   "execution_count": 71,
   "id": "d8a7cba5",
   "metadata": {},
   "outputs": [],
   "source": [
    "pos_rev = phase2_data[phase1_data['Sentiment']==1]\n",
    "neg_rev = phase2_data[phase1_data['Sentiment']==0]"
   ]
  },
  {
   "cell_type": "markdown",
   "id": "4ca2c2c5",
   "metadata": {},
   "source": [
    "# Clustering on Positive reviews"
   ]
  },
  {
   "cell_type": "code",
   "execution_count": 72,
   "id": "fa88f285",
   "metadata": {},
   "outputs": [
    {
     "data": {
      "text/plain": [
       "(297, 22)"
      ]
     },
     "execution_count": 72,
     "metadata": {},
     "output_type": "execute_result"
    }
   ],
   "source": [
    "# clustering Positive reviews\n",
    "cv = CountVectorizer(ngram_range=(1, 2), min_df=10, max_df=0.5)\n",
    "cv_matrix = cv.fit_transform(pos_rev['Review'])\n",
    "cv_matrix.shape"
   ]
  },
  {
   "cell_type": "markdown",
   "id": "cb93dd21",
   "metadata": {},
   "source": [
    "**Note:**\n",
    "    \n",
    "Here we are taking single words and those words should be repeated in minimum 10 times (min_df) and appeared at max in 50% of the rows(max_df)."
   ]
  },
  {
   "cell_type": "code",
   "execution_count": 75,
   "id": "051936f9",
   "metadata": {},
   "outputs": [
    {
     "name": "stdout",
     "output_type": "stream",
     "text": [
      "CLUSTER #1\n",
      "Key Features: ['good', 'shoe', 'quality', 'look', 'comfortable', 'got', 'loved', 'buy', 'fit', 'superb', 'myntra', 'nice', 'love', 'good quality', 'good product']\n",
      "--------------------------------------------------------------------------------\n",
      "CLUSTER #2\n",
      "Key Features: ['nice', 'comfortable', 'awesome', 'love', 'superb', 'amazing', 'quality', 'buy', 'best', 'myntra', 'got', 'loved', 'fit', 'look', 'price']\n",
      "--------------------------------------------------------------------------------\n",
      "CLUSTER #3\n",
      "Key Features: ['product', 'nice', 'nice product', 'amazing', 'awesome', 'price', 'best', 'love', 'shoe', 'buy', 'loved', 'myntra', 'got', 'comfortable', 'fit']\n",
      "--------------------------------------------------------------------------------\n",
      "CLUSTER #4\n",
      "Key Features: ['product', 'good', 'good product', 'quality', 'myntra', 'price', 'loved', 'comfortable', 'nice product', 'nice', 'buy', 'fit', 'superb', 'awesome', 'best']\n",
      "--------------------------------------------------------------------------------\n",
      "CLUSTER #5\n",
      "Key Features: ['shoe', 'nice', 'nice shoe', 'myntra', 'quality', 'best', 'fit', 'amazing', 'comfortable', 'loved', 'got', 'good', 'buy', 'superb', 'love']\n",
      "--------------------------------------------------------------------------------\n",
      "CLUSTER #6\n",
      "Key Features: ['good', 'good quality', 'quality', 'comfortable', 'buy', 'product', 'price', 'best', 'nice', 'fit', 'superb', 'awesome', 'good product', 'look', 'got']\n",
      "--------------------------------------------------------------------------------\n"
     ]
    }
   ],
   "source": [
    "# Let us build the first model \n",
    "NUM_CLUSTERS = 6\n",
    "km1 = KMeans(n_clusters=NUM_CLUSTERS, max_iter=100, n_init=15, random_state=42).fit(cv_matrix)\n",
    "\n",
    "pos_rev['kmeans_cluster'] = km1.labels_\n",
    "\n",
    "pos_clusters = (pos_rev[['Review', 'Sentiment','kmeans_cluster']]\n",
    "                  .sort_values(by=['Sentiment'], \n",
    "                               ascending=False)\n",
    "                  .groupby('kmeans_cluster').head(20))\n",
    "\n",
    "feature_names = cv.get_feature_names_out()\n",
    "topn_features = 15\n",
    "ordered_centroids = km1.cluster_centers_.argsort()[:, ::-1]\n",
    "\n",
    "# get key features for each cluster\n",
    "# get movies belonging to each cluster\n",
    "for cluster_num in range(NUM_CLUSTERS):\n",
    "    key_features = [feature_names[index] \n",
    "                        for index in ordered_centroids[cluster_num, :topn_features]]\n",
    "    print('CLUSTER #'+str(cluster_num+1))\n",
    "    print('Key Features:', key_features)\n",
    "    print('-'*80)"
   ]
  },
  {
   "cell_type": "code",
   "execution_count": 76,
   "id": "57ee8b30",
   "metadata": {},
   "outputs": [
    {
     "data": {
      "text/plain": [
       "[434.68314069350333,\n",
       " 386.49606735349505,\n",
       " 364.0664968737452,\n",
       " 330.46282910651075,\n",
       " 307.1827706350303,\n",
       " 286.9759800813459]"
      ]
     },
     "execution_count": 76,
     "metadata": {},
     "output_type": "execute_result"
    }
   ],
   "source": [
    "css = [] \n",
    "for i in range(2, 8): \n",
    "    kmeans = KMeans(n_clusters=i, max_iter=100, n_init=10, random_state=42).fit(cv_matrix)\n",
    "    css.append(kmeans.inertia_)\n",
    "\n",
    "css"
   ]
  },
  {
   "cell_type": "code",
   "execution_count": 77,
   "id": "6c9a2a59",
   "metadata": {},
   "outputs": [
    {
     "data": {
      "image/png": "[encoded data removed]",
      "text/plain": [
       "<Figure size 640x480 with 1 Axes>"
      ]
     },
     "metadata": {},
     "output_type": "display_data"
    }
   ],
   "source": [
    "plt.plot(range(2, 8), css)\n",
    "plt.xlabel('Number of clusters')\n",
    "plt.ylabel('CSS') \n",
    "plt.show()"
   ]
  },
  {
   "cell_type": "markdown",
   "id": "cd73ed3d",
   "metadata": {},
   "source": [
    "**Note:**\n",
    "    \n",
    "The elbow is kind of at 3 clusters so lets proceed clustering with 3 clusters"
   ]
  },
  {
   "cell_type": "code",
   "execution_count": 79,
   "id": "cf852553",
   "metadata": {},
   "outputs": [
    {
     "name": "stdout",
     "output_type": "stream",
     "text": [
      "CLUSTER #1\n",
      "Key Features: ['shoe', 'nice', 'quality', 'best', 'comfortable', 'love', 'superb', 'myntra', 'amazing', 'nice shoe', 'buy', 'awesome', 'got', 'loved', 'fit', 'look', 'price', 'nice product', 'good quality', 'good product']\n",
      "--------------------------------------------------------------------------------\n",
      "CLUSTER #2\n",
      "Key Features: ['good', 'quality', 'good quality', 'shoe', 'comfortable', 'look', 'buy', 'fit', 'myntra', 'got', 'best', 'superb', 'loved', 'nice', 'price', 'amazing', 'love', 'good product', 'nice product', 'nice shoe']\n",
      "--------------------------------------------------------------------------------\n",
      "CLUSTER #3\n",
      "Key Features: ['product', 'good', 'nice', 'nice product', 'good product', 'price', 'myntra', 'amazing', 'shoe', 'loved', 'best', 'awesome', 'buy', 'love', 'quality', 'comfortable', 'got', 'good quality', 'fit', 'superb']\n",
      "--------------------------------------------------------------------------------\n"
     ]
    }
   ],
   "source": [
    "# Let us build the first model \n",
    "NUM_CLUSTERS = 3\n",
    "km1 = KMeans(n_clusters=NUM_CLUSTERS, max_iter=100, n_init=15, random_state=42).fit(cv_matrix)\n",
    "\n",
    "pos_rev['kmeans_cluster'] = km1.labels_\n",
    "\n",
    "pos_clusters = (pos_rev[['Review', 'Sentiment','kmeans_cluster']]\n",
    "                  .sort_values(by=['Sentiment'], \n",
    "                               ascending=False)\n",
    "                  .groupby('kmeans_cluster').head(20))\n",
    "\n",
    "feature_names = cv.get_feature_names_out()\n",
    "topn_features = 20\n",
    "ordered_centroids = km1.cluster_centers_.argsort()[:, ::-1]\n",
    "\n",
    "# get key features for each cluster\n",
    "# get movies belonging to each cluster\n",
    "for cluster_num in range(NUM_CLUSTERS):\n",
    "    key_features = [feature_names[index] \n",
    "                        for index in ordered_centroids[cluster_num, :topn_features]]\n",
    "    print('CLUSTER #'+str(cluster_num+1))\n",
    "    print('Key Features:', key_features)\n",
    "    print('-'*80)"
   ]
  },
  {
   "cell_type": "markdown",
   "id": "df32aa86",
   "metadata": {},
   "source": [
    "**Note: Names of the clusters can be:**\n",
    "        \n",
    "1) CLUSTER 1: Positive Shoe Reviews\n",
    "2) CLUSTER 2: Positive Reviews on Product Quality and Comfort\n",
    "3) CLUSTER 3: Positive Myntra Shopping Experience"
   ]
  },
  {
   "cell_type": "markdown",
   "id": "e1f466a0",
   "metadata": {},
   "source": [
    "# Topic modeling for positive reviews"
   ]
  },
  {
   "cell_type": "code",
   "execution_count": 81,
   "id": "0ed9f3c4",
   "metadata": {},
   "outputs": [],
   "source": [
    "vectorizer_tf = TfidfVectorizer(max_df=0.75, min_df=10, max_features=6000)\n",
    "tf_vectors = vectorizer_tf.fit_transform(pos_rev.Review) "
   ]
  },
  {
   "cell_type": "code",
   "execution_count": 82,
   "id": "12d3e153",
   "metadata": {},
   "outputs": [],
   "source": [
    "lda = decomposition.LatentDirichletAllocation(n_components=5, max_iter=5, learning_method='online', learning_offset=50, n_jobs=-1, random_state=111)\n",
    "\n",
    "W1 = lda.fit_transform(tf_vectors)\n",
    "H1 = lda.components_"
   ]
  },
  {
   "cell_type": "code",
   "execution_count": 84,
   "id": "3014b748",
   "metadata": {},
   "outputs": [],
   "source": [
    "num_words=10\n",
    "\n",
    "vocab = np.array(vectorizer_tf.get_feature_names_out())\n",
    "\n",
    "top_words = lambda t: [vocab[i] for i in np.argsort(t)[:-num_words-1:-1]]\n",
    "topic_words = ([top_words(t) for t in H1])\n",
    "topics = [' '.join(t) for t in topic_words]"
   ]
  },
  {
   "cell_type": "code",
   "execution_count": 85,
   "id": "749c3e0d",
   "metadata": {},
   "outputs": [
    {
     "data": {
      "text/plain": [
       "{'awesome comfortable myntra got product shoe price look loved nice',\n",
       " 'buy myntra product love good amazing best shoe quality nice',\n",
       " 'good quality product amazing look shoe price got comfortable fit',\n",
       " 'nice shoe product love loved quality comfortable price got awesome',\n",
       " 'superb best shoe fit quality loved comfortable love myntra buy'}"
      ]
     },
     "execution_count": 85,
     "metadata": {},
     "output_type": "execute_result"
    }
   ],
   "source": [
    "set(topics)"
   ]
  },
  {
   "cell_type": "markdown",
   "id": "65f87bb5",
   "metadata": {},
   "source": [
    "**Report:**\n",
    "    \n",
    "From the clustering of the recent 25% of the data positive reviews we can see comfortable fit, good price, and shoe look etc are defining the positive things about the product. To support these cluters the topic modeling also gave similar topics as result. So, as far as product is considered price, shoe fit and quality are mostly praised by users"
   ]
  },
  {
   "cell_type": "markdown",
   "id": "e3308e7d",
   "metadata": {},
   "source": [
    "# Clustering for negative reviews"
   ]
  },
  {
   "cell_type": "code",
   "execution_count": 86,
   "id": "8f589290",
   "metadata": {},
   "outputs": [
    {
     "data": {
      "text/plain": [
       "(110, 16)"
      ]
     },
     "execution_count": 86,
     "metadata": {},
     "output_type": "execute_result"
    }
   ],
   "source": [
    "# clustering negative reviews\n",
    "cv = CountVectorizer(ngram_range=(1, 2), min_df=8, max_df=0.5)\n",
    "cv_matrix = cv.fit_transform(neg_rev['Review'])\n",
    "cv_matrix.shape"
   ]
  },
  {
   "cell_type": "code",
   "execution_count": 88,
   "id": "9fe9a2ad",
   "metadata": {},
   "outputs": [
    {
     "name": "stdout",
     "output_type": "stream",
     "text": [
      "CLUSTER #1\n",
      "Key Features: ['product', 'quality', 'quality product', 'worst', 'shoe', 'poor', 'time', 'dont', 'colour', 'bad', 'yellow', 'washing', 'wash', 'one', 'buy']\n",
      "--------------------------------------------------------------------------------\n",
      "CLUSTER #2\n",
      "Key Features: ['quality', 'shoe', 'worst', 'washing', 'poor', 'product', 'buy', 'bad', 'yellow', 'dont', 'one', 'colour', 'wash', 'time', 'quality product']\n",
      "--------------------------------------------------------------------------------\n",
      "CLUSTER #3\n",
      "Key Features: ['shoe', 'time', 'bad', 'product', 'yellow', 'washing', 'quality', 'colour', 'wash', 'one', 'bad quality', 'worst', 'quality product', 'poor', 'dont']\n",
      "--------------------------------------------------------------------------------\n",
      "CLUSTER #4\n",
      "Key Features: ['colour', 'shoe', 'one', 'dont', 'yellow', 'worst', 'buy', 'wash', 'time', 'quality', 'product', 'washing', 'quality product', 'poor', 'bad quality']\n",
      "--------------------------------------------------------------------------------\n",
      "CLUSTER #5\n",
      "Key Features: ['wash', 'shoe', 'one', 'colour', 'yellow', 'quality', 'time', 'product', 'poor', 'dont', 'bad', 'worst', 'washing', 'quality product', 'buy']\n",
      "--------------------------------------------------------------------------------\n",
      "CLUSTER #6\n",
      "Key Features: ['quality', 'bad', 'bad quality', 'product', 'shoe', 'dont', 'wash', 'quality product', 'one', 'colour', 'buy', 'yellow', 'worst', 'washing', 'time']\n",
      "--------------------------------------------------------------------------------\n"
     ]
    }
   ],
   "source": [
    "# Let us build the first model \n",
    "NUM_CLUSTERS = 6\n",
    "km1 = KMeans(n_clusters=NUM_CLUSTERS, max_iter=100, n_init=15, random_state=42).fit(cv_matrix)\n",
    "\n",
    "neg_rev['kmeans_cluster'] = km1.labels_\n",
    "\n",
    "neg_clusters = (neg_rev[['Review', 'Sentiment','kmeans_cluster']]\n",
    "                  .sort_values(by=['Sentiment'], \n",
    "                               ascending=False)\n",
    "                  .groupby('kmeans_cluster').head(20))\n",
    "\n",
    "feature_names = cv.get_feature_names_out()\n",
    "topn_features = 15\n",
    "ordered_centroids = km1.cluster_centers_.argsort()[:, ::-1]\n",
    "\n",
    "# get key features for each cluster\n",
    "# get movies belonging to each cluster\n",
    "for cluster_num in range(NUM_CLUSTERS):\n",
    "    key_features = [feature_names[index] \n",
    "                        for index in ordered_centroids[cluster_num, :topn_features]]\n",
    "    print('CLUSTER #'+str(cluster_num+1))\n",
    "    print('Key Features:', key_features)\n",
    "    print('-'*80)"
   ]
  },
  {
   "cell_type": "code",
   "execution_count": 89,
   "id": "dbfad97c",
   "metadata": {},
   "outputs": [
    {
     "data": {
      "text/plain": [
       "[215.654552878726,\n",
       " 187.98214285714286,\n",
       " 171.00849673202615,\n",
       " 164.45712560386474,\n",
       " 150.95658192426768,\n",
       " 140.9608474576271]"
      ]
     },
     "execution_count": 89,
     "metadata": {},
     "output_type": "execute_result"
    }
   ],
   "source": [
    "css = [] \n",
    "for i in range(2, 8): \n",
    "    kmeans = KMeans(n_clusters=i, max_iter=100, n_init=10, random_state=42).fit(cv_matrix)\n",
    "    css.append(kmeans.inertia_)\n",
    "\n",
    "css"
   ]
  },
  {
   "cell_type": "code",
   "execution_count": 90,
   "id": "613a59e2",
   "metadata": {},
   "outputs": [
    {
     "data": {
      "image/png": "[encoded data removed]",
      "text/plain": [
       "<Figure size 640x480 with 1 Axes>"
      ]
     },
     "metadata": {},
     "output_type": "display_data"
    }
   ],
   "source": [
    "plt.plot(range(2, 8), css)\n",
    "plt.xlabel('Number of clusters')\n",
    "plt.ylabel('CSS') \n",
    "plt.show()"
   ]
  },
  {
   "cell_type": "markdown",
   "id": "4f849f4c",
   "metadata": {},
   "source": [
    "**Note:**\n",
    "    \n",
    "The elbow is kind of at 3 clusters and 5 so lets proceed clustering with 3 clusters"
   ]
  },
  {
   "cell_type": "code",
   "execution_count": 91,
   "id": "330e1468",
   "metadata": {},
   "outputs": [
    {
     "name": "stdout",
     "output_type": "stream",
     "text": [
      "CLUSTER #1\n",
      "Key Features: ['quality', 'product', 'bad', 'quality product', 'bad quality', 'poor', 'worst', 'shoe', 'dont', 'washing', 'wash', 'time', 'one', 'yellow', 'colour', 'buy']\n",
      "--------------------------------------------------------------------------------\n",
      "CLUSTER #2\n",
      "Key Features: ['shoe', 'product', 'washing', 'worst', 'wash', 'bad', 'time', 'colour', 'yellow', 'dont', 'buy', 'one', 'poor', 'quality product', 'quality', 'bad quality']\n",
      "--------------------------------------------------------------------------------\n",
      "CLUSTER #3\n",
      "Key Features: ['shoe', 'colour', 'one', 'wash', 'yellow', 'quality', 'dont', 'buy', 'worst', 'time', 'bad', 'product', 'bad quality', 'poor', 'washing', 'quality product']\n",
      "--------------------------------------------------------------------------------\n"
     ]
    }
   ],
   "source": [
    "# Let us build the first model \n",
    "NUM_CLUSTERS = 3\n",
    "km1 = KMeans(n_clusters=NUM_CLUSTERS, max_iter=100, n_init=15, random_state=42).fit(cv_matrix)\n",
    "\n",
    "neg_rev['kmeans_cluster'] = km1.labels_\n",
    "\n",
    "neg_clusters = (neg_rev[['Review', 'Sentiment','kmeans_cluster']]\n",
    "                  .sort_values(by=['Sentiment'], \n",
    "                               ascending=False)\n",
    "                  .groupby('kmeans_cluster').head(20))\n",
    "\n",
    "feature_names = cv.get_feature_names_out()\n",
    "topn_features = 20\n",
    "ordered_centroids = km1.cluster_centers_.argsort()[:, ::-1]\n",
    "\n",
    "# get key features for each cluster\n",
    "# get movies belonging to each cluster\n",
    "for cluster_num in range(NUM_CLUSTERS):\n",
    "    key_features = [feature_names[index] \n",
    "                        for index in ordered_centroids[cluster_num, :topn_features]]\n",
    "    print('CLUSTER #'+str(cluster_num+1))\n",
    "    print('Key Features:', key_features)\n",
    "    print('-'*80)"
   ]
  },
  {
   "cell_type": "markdown",
   "id": "88f7e03b",
   "metadata": {},
   "source": [
    "Names of the clusters can be:\n",
    "1) CLUSTER 1: Negative Reviews on Product Quality\n",
    "2) CLUSTER 2: Negative Reviews on Washing and Color\n",
    "3) CLUSTER 3: Negative Reviews on Product Experience"
   ]
  },
  {
   "cell_type": "markdown",
   "id": "b78b8198",
   "metadata": {},
   "source": [
    "# Topic modeling for negative reviews"
   ]
  },
  {
   "cell_type": "code",
   "execution_count": 94,
   "id": "df831979",
   "metadata": {},
   "outputs": [],
   "source": [
    "vectorizer_tf = TfidfVectorizer(max_df=0.75, min_df=10, max_features=6000)\n",
    "tf_vectors = vectorizer_tf.fit_transform(neg_rev.Review)"
   ]
  },
  {
   "cell_type": "code",
   "execution_count": 95,
   "id": "d3cbebe0",
   "metadata": {},
   "outputs": [],
   "source": [
    "lda = decomposition.LatentDirichletAllocation(n_components=10, max_iter=5, learning_method='online', learning_offset=50, n_jobs=-1, random_state=111)\n",
    "\n",
    "W1 = lda.fit_transform(tf_vectors)\n",
    "H1 = lda.components_"
   ]
  },
  {
   "cell_type": "code",
   "execution_count": 97,
   "id": "bf9567ec",
   "metadata": {},
   "outputs": [],
   "source": [
    "num_words=10\n",
    "\n",
    "vocab = np.array(vectorizer_tf.get_feature_names_out())\n",
    "\n",
    "top_words = lambda t: [vocab[i] for i in np.argsort(t)[:-num_words-1:-1]]\n",
    "topic_words = ([top_words(t) for t in H1])\n",
    "topics = [' '.join(t) for t in topic_words]"
   ]
  },
  {
   "cell_type": "code",
   "execution_count": 98,
   "id": "486ef2b2",
   "metadata": {},
   "outputs": [
    {
     "data": {
      "text/plain": [
       "{'colour shoe one wash product dont worst bad quality',\n",
       " 'colour wash product bad one quality shoe dont worst',\n",
       " 'colour wash product worst dont shoe bad quality one',\n",
       " 'dont shoe colour quality bad one worst wash product',\n",
       " 'one shoe wash colour bad quality dont product worst',\n",
       " 'product dont one colour worst shoe bad quality wash',\n",
       " 'quality bad shoe product colour worst dont one wash',\n",
       " 'quality product bad shoe dont wash colour one worst',\n",
       " 'shoe bad quality wash dont product worst colour one',\n",
       " 'worst shoe quality product bad dont one colour wash'}"
      ]
     },
     "execution_count": 98,
     "metadata": {},
     "output_type": "execute_result"
    }
   ],
   "source": [
    "set(topics)"
   ]
  },
  {
   "cell_type": "markdown",
   "id": "96953249",
   "metadata": {},
   "source": [
    "**Report:**\n",
    "    \n",
    "From the clustering of the recent 25% of the data negative reviews we can see color qualaity, bad quality, and washing problems  etc are defining the negative things about the product. To support these cluters the topic modeling also gave similar topics on washing, color, and bad quality as result. So, as far as product is considered color qualaity, bad quality, and washing problems are most dissapointing aspects to users."
   ]
  },
  {
   "cell_type": "markdown",
   "id": "e6ce4db7",
   "metadata": {},
   "source": [
    "# Phase 3"
   ]
  },
  {
   "cell_type": "code",
   "execution_count": 131,
   "id": "823a3800",
   "metadata": {},
   "outputs": [],
   "source": [
    "df = pd.concat([positive, negative], ignore_index=True)"
   ]
  },
  {
   "cell_type": "code",
   "execution_count": 132,
   "id": "435e2caf",
   "metadata": {},
   "outputs": [
    {
     "data": {
      "text/html": [
       "<div>\n",
       "<style scoped>\n",
       "    .dataframe tbody tr th:only-of-type {\n",
       "        vertical-align: middle;\n",
       "    }\n",
       "\n",
       "    .dataframe tbody tr th {\n",
       "        vertical-align: top;\n",
       "    }\n",
       "\n",
       "    .dataframe thead th {\n",
       "        text-align: right;\n",
       "    }\n",
       "</style>\n",
       "<table border=\"1\" class=\"dataframe\">\n",
       "  <thead>\n",
       "    <tr style=\"text-align: right;\">\n",
       "      <th></th>\n",
       "      <th>Unnamed: 0</th>\n",
       "      <th>Name</th>\n",
       "      <th>Date</th>\n",
       "      <th>Rating</th>\n",
       "      <th>Images</th>\n",
       "      <th>Likes</th>\n",
       "      <th>Dislikes</th>\n",
       "      <th>Review Text</th>\n",
       "      <th>Class</th>\n",
       "    </tr>\n",
       "  </thead>\n",
       "  <tbody>\n",
       "    <tr>\n",
       "      <th>0</th>\n",
       "      <td>1</td>\n",
       "      <td>Tilottoma</td>\n",
       "      <td>30 Jan 2023</td>\n",
       "      <td>5</td>\n",
       "      <td>0</td>\n",
       "      <td>38</td>\n",
       "      <td>14</td>\n",
       "      <td>If you are looking for shoe without opening th...</td>\n",
       "      <td>1</td>\n",
       "    </tr>\n",
       "    <tr>\n",
       "      <th>1</th>\n",
       "      <td>3</td>\n",
       "      <td>Suraj Kumar Thakur</td>\n",
       "      <td>16 Sept 2022</td>\n",
       "      <td>5</td>\n",
       "      <td>1</td>\n",
       "      <td>33</td>\n",
       "      <td>14</td>\n",
       "      <td>Just bought this one, and the product is soo p...</td>\n",
       "      <td>1</td>\n",
       "    </tr>\n",
       "    <tr>\n",
       "      <th>2</th>\n",
       "      <td>5</td>\n",
       "      <td>Sekh Imtiazuddin</td>\n",
       "      <td>24 Jan 2023</td>\n",
       "      <td>5</td>\n",
       "      <td>1</td>\n",
       "      <td>1</td>\n",
       "      <td>0</td>\n",
       "      <td>The product is nice but please keep your mind ...</td>\n",
       "      <td>1</td>\n",
       "    </tr>\n",
       "    <tr>\n",
       "      <th>3</th>\n",
       "      <td>7</td>\n",
       "      <td>Arvind Singh</td>\n",
       "      <td>20 July 2022</td>\n",
       "      <td>5</td>\n",
       "      <td>1</td>\n",
       "      <td>6</td>\n",
       "      <td>3</td>\n",
       "      <td>Got them for 1484 after using a coupon on sale...</td>\n",
       "      <td>1</td>\n",
       "    </tr>\n",
       "    <tr>\n",
       "      <th>4</th>\n",
       "      <td>8</td>\n",
       "      <td>Pubg</td>\n",
       "      <td>22 Jan 2023</td>\n",
       "      <td>5</td>\n",
       "      <td>0</td>\n",
       "      <td>0</td>\n",
       "      <td>0</td>\n",
       "      <td>Shoes are great but you have to maintain it pr...</td>\n",
       "      <td>1</td>\n",
       "    </tr>\n",
       "  </tbody>\n",
       "</table>\n",
       "</div>"
      ],
      "text/plain": [
       "   Unnamed: 0                Name          Date  Rating  Images  Likes  \\\n",
       "0           1           Tilottoma   30 Jan 2023       5       0     38   \n",
       "1           3  Suraj Kumar Thakur  16 Sept 2022       5       1     33   \n",
       "2           5    Sekh Imtiazuddin   24 Jan 2023       5       1      1   \n",
       "3           7        Arvind Singh  20 July 2022       5       1      6   \n",
       "4           8                Pubg   22 Jan 2023       5       0      0   \n",
       "\n",
       "   Dislikes                                        Review Text  Class  \n",
       "0        14  If you are looking for shoe without opening th...      1  \n",
       "1        14  Just bought this one, and the product is soo p...      1  \n",
       "2         0  The product is nice but please keep your mind ...      1  \n",
       "3         3  Got them for 1484 after using a coupon on sale...      1  \n",
       "4         0  Shoes are great but you have to maintain it pr...      1  "
      ]
     },
     "execution_count": 132,
     "metadata": {},
     "output_type": "execute_result"
    }
   ],
   "source": [
    "df.head()"
   ]
  },
  {
   "cell_type": "code",
   "execution_count": 133,
   "id": "0cd6531a",
   "metadata": {},
   "outputs": [
    {
     "name": "stdout",
     "output_type": "stream",
     "text": [
      "<class 'pandas.core.frame.DataFrame'>\n",
      "RangeIndex: 1702 entries, 0 to 1701\n",
      "Data columns (total 9 columns):\n",
      " #   Column       Non-Null Count  Dtype \n",
      "---  ------       --------------  ----- \n",
      " 0   Unnamed: 0   1702 non-null   int64 \n",
      " 1   Name         1702 non-null   object\n",
      " 2   Date         1702 non-null   object\n",
      " 3   Rating       1702 non-null   int64 \n",
      " 4   Images       1702 non-null   int64 \n",
      " 5   Likes        1702 non-null   int64 \n",
      " 6   Dislikes     1702 non-null   int64 \n",
      " 7   Review Text  1645 non-null   object\n",
      " 8   Class        1702 non-null   int64 \n",
      "dtypes: int64(6), object(3)\n",
      "memory usage: 119.8+ KB\n"
     ]
    }
   ],
   "source": [
    "df.info()"
   ]
  },
  {
   "cell_type": "code",
   "execution_count": 152,
   "id": "0e6a9a16",
   "metadata": {},
   "outputs": [
    {
     "name": "stdout",
     "output_type": "stream",
     "text": [
      "sample sentence preprocessing\n"
     ]
    },
    {
     "name": "stderr",
     "output_type": "stream",
     "text": [
      "[nltk_data] Downloading package punkt to\n",
      "[nltk_data]     C:\\Users\\gokul\\AppData\\Roaming\\nltk_data...\n",
      "[nltk_data]   Package punkt is already up-to-date!\n",
      "[nltk_data] Downloading package averaged_perceptron_tagger to\n",
      "[nltk_data]     C:\\Users\\gokul\\AppData\\Roaming\\nltk_data...\n",
      "[nltk_data]   Package averaged_perceptron_tagger is already up-to-\n",
      "[nltk_data]       date!\n",
      "[nltk_data] Downloading package wordnet to\n",
      "[nltk_data]     C:\\Users\\gokul\\AppData\\Roaming\\nltk_data...\n",
      "[nltk_data]   Package wordnet is already up-to-date!\n",
      "[nltk_data] Downloading package stopwords to\n",
      "[nltk_data]     C:\\Users\\gokul\\AppData\\Roaming\\nltk_data...\n",
      "[nltk_data]   Package stopwords is already up-to-date!\n"
     ]
    }
   ],
   "source": [
    "import nltk\n",
    "from nltk.corpus import stopwords\n",
    "from nltk.stem import WordNetLemmatizer\n",
    "\n",
    "# Download NLTK resources (run this once if you haven't downloaded NLTK resources)\n",
    "nltk.download('punkt')\n",
    "nltk.download('averaged_perceptron_tagger')\n",
    "nltk.download('wordnet')\n",
    "nltk.download('stopwords')\n",
    "\n",
    "# Define your preprocess_sentences function\n",
    "def preprocess_sentences(text):\n",
    "    if isinstance(text, str):  # Check if the value is a string\n",
    "        # Define stopwords and lemmatizer\n",
    "        stop_words = stopwords.words('english')\n",
    "        lemmatizer = WordNetLemmatizer()\n",
    "\n",
    "        # Convert text to lowercase and strip whitespace\n",
    "        text = text.lower()\n",
    "        text = text.strip()  \n",
    "\n",
    "        # Tokenize the text into words and tag them with parts of speech\n",
    "        words = nltk.word_tokenize(text)\n",
    "        tags = nltk.pos_tag(words)\n",
    "\n",
    "        # Initialize an empty list to store lemmatized words\n",
    "        temp_sent = []\n",
    "\n",
    "        # Iterate over each word and its corresponding part of speech\n",
    "        for i, word in enumerate(words):\n",
    "            if tags[i][1] in VERB_CODES:\n",
    "                # Lemmatize verbs\n",
    "                lemmatized = lemmatizer.lemmatize(word, 'v')\n",
    "            else:\n",
    "                # Lemmatize other parts of speech\n",
    "                lemmatized = lemmatizer.lemmatize(word)\n",
    "            # Check if the lemmatized word is not a stopword, is alphabetic, and has length > 2\n",
    "            if lemmatized not in stop_words and lemmatized.isalpha() and len(lemmatized) > 2:\n",
    "                temp_sent.append(lemmatized)\n",
    "\n",
    "        # Join the list of lemmatized words to form the final preprocessed sentence\n",
    "        final_sent = ' '.join(temp_sent)\n",
    "    else:\n",
    "        final_sent = \"\"  # Return empty string for NaN values or non-string objects\n",
    "\n",
    "    return final_sent\n",
    "\n",
    "# Define the set of verb codes\n",
    "VERB_CODES = {'VB', 'VBD', 'VBG', 'VBN', 'VBP', 'VBZ'}\n",
    "\n",
    "# Example usage:\n",
    "sentence = \"This is a sample sentence for preprocessing\"\n",
    "processed_sentence = preprocess_sentences(sentence)\n",
    "print(processed_sentence)\n"
   ]
  },
  {
   "cell_type": "code",
   "execution_count": 201,
   "id": "5bd98059",
   "metadata": {},
   "outputs": [],
   "source": [
    "# Assuming df is your DataFrame and 'Review Text' is the column containing text data\n",
    "data['Processed_review'] = data['Review'].apply(preprocess_sentences)"
   ]
  },
  {
   "cell_type": "code",
   "execution_count": 202,
   "id": "814627bb",
   "metadata": {},
   "outputs": [
    {
     "data": {
      "text/html": [
       "<div>\n",
       "<style scoped>\n",
       "    .dataframe tbody tr th:only-of-type {\n",
       "        vertical-align: middle;\n",
       "    }\n",
       "\n",
       "    .dataframe tbody tr th {\n",
       "        vertical-align: top;\n",
       "    }\n",
       "\n",
       "    .dataframe thead th {\n",
       "        text-align: right;\n",
       "    }\n",
       "</style>\n",
       "<table border=\"1\" class=\"dataframe\">\n",
       "  <thead>\n",
       "    <tr style=\"text-align: right;\">\n",
       "      <th></th>\n",
       "      <th>Unnamed: 0</th>\n",
       "      <th>Name</th>\n",
       "      <th>Date</th>\n",
       "      <th>Rating</th>\n",
       "      <th>Images</th>\n",
       "      <th>Likes</th>\n",
       "      <th>Dislikes</th>\n",
       "      <th>Review Text</th>\n",
       "      <th>Class</th>\n",
       "      <th>Review</th>\n",
       "      <th>Text Length</th>\n",
       "      <th>Has Image</th>\n",
       "      <th>Likes Ratio</th>\n",
       "      <th>Processed_review</th>\n",
       "    </tr>\n",
       "  </thead>\n",
       "  <tbody>\n",
       "    <tr>\n",
       "      <th>0</th>\n",
       "      <td>1442</td>\n",
       "      <td>Mallick Sahab</td>\n",
       "      <td>4 Nov 2023</td>\n",
       "      <td>5</td>\n",
       "      <td>0</td>\n",
       "      <td>0</td>\n",
       "      <td>0</td>\n",
       "      <td>very good</td>\n",
       "      <td>1</td>\n",
       "      <td>good</td>\n",
       "      <td>4</td>\n",
       "      <td>0</td>\n",
       "      <td>0.0</td>\n",
       "      <td>good</td>\n",
       "    </tr>\n",
       "    <tr>\n",
       "      <th>1</th>\n",
       "      <td>1342</td>\n",
       "      <td>Myntra Customer</td>\n",
       "      <td>29 Feb 2024</td>\n",
       "      <td>5</td>\n",
       "      <td>0</td>\n",
       "      <td>0</td>\n",
       "      <td>0</td>\n",
       "      <td>Nice shoe 👟</td>\n",
       "      <td>1</td>\n",
       "      <td>nice shoe</td>\n",
       "      <td>9</td>\n",
       "      <td>0</td>\n",
       "      <td>0.0</td>\n",
       "      <td>nice shoe</td>\n",
       "    </tr>\n",
       "    <tr>\n",
       "      <th>2</th>\n",
       "      <td>1858</td>\n",
       "      <td>Sanjeev Gangwar</td>\n",
       "      <td>29 Aug 2023</td>\n",
       "      <td>1</td>\n",
       "      <td>0</td>\n",
       "      <td>0</td>\n",
       "      <td>0</td>\n",
       "      <td>Very bad quality, colour faded in first wash ....</td>\n",
       "      <td>0</td>\n",
       "      <td>bad quality colour faded first wash dont buy s...</td>\n",
       "      <td>107</td>\n",
       "      <td>0</td>\n",
       "      <td>0.0</td>\n",
       "      <td>bad quality colour fade first wash dont buy sh...</td>\n",
       "    </tr>\n",
       "    <tr>\n",
       "      <th>3</th>\n",
       "      <td>183</td>\n",
       "      <td>Manjunath</td>\n",
       "      <td>26 Aug 2023</td>\n",
       "      <td>5</td>\n",
       "      <td>1</td>\n",
       "      <td>0</td>\n",
       "      <td>0</td>\n",
       "      <td>Quality of material, fit &amp; finish of the shoe ...</td>\n",
       "      <td>1</td>\n",
       "      <td>quality material fit finish shoe excellent wis...</td>\n",
       "      <td>72</td>\n",
       "      <td>1</td>\n",
       "      <td>0.0</td>\n",
       "      <td>quality material fit finish shoe excellent wis...</td>\n",
       "    </tr>\n",
       "    <tr>\n",
       "      <th>4</th>\n",
       "      <td>1591</td>\n",
       "      <td>Rashmi Singh</td>\n",
       "      <td>19 Oct 2020</td>\n",
       "      <td>5</td>\n",
       "      <td>0</td>\n",
       "      <td>0</td>\n",
       "      <td>0</td>\n",
       "      <td>Ok</td>\n",
       "      <td>1</td>\n",
       "      <td></td>\n",
       "      <td>0</td>\n",
       "      <td>0</td>\n",
       "      <td>0.0</td>\n",
       "      <td></td>\n",
       "    </tr>\n",
       "  </tbody>\n",
       "</table>\n",
       "</div>"
      ],
      "text/plain": [
       "   Unnamed: 0             Name         Date  Rating  Images  Likes  Dislikes  \\\n",
       "0        1442    Mallick Sahab   4 Nov 2023       5       0      0         0   \n",
       "1        1342  Myntra Customer  29 Feb 2024       5       0      0         0   \n",
       "2        1858  Sanjeev Gangwar  29 Aug 2023       1       0      0         0   \n",
       "3         183        Manjunath  26 Aug 2023       5       1      0         0   \n",
       "4        1591     Rashmi Singh  19 Oct 2020       5       0      0         0   \n",
       "\n",
       "                                         Review Text  Class  \\\n",
       "0                                          very good      1   \n",
       "1                                        Nice shoe 👟      1   \n",
       "2  Very bad quality, colour faded in first wash ....      0   \n",
       "3  Quality of material, fit & finish of the shoe ...      1   \n",
       "4                                                 Ok      1   \n",
       "\n",
       "                                              Review  Text Length  Has Image  \\\n",
       "0                                               good            4          0   \n",
       "1                                          nice shoe            9          0   \n",
       "2  bad quality colour faded first wash dont buy s...          107          0   \n",
       "3  quality material fit finish shoe excellent wis...           72          1   \n",
       "4                                                               0          0   \n",
       "\n",
       "   Likes Ratio                                   Processed_review  \n",
       "0          0.0                                               good  \n",
       "1          0.0                                          nice shoe  \n",
       "2          0.0  bad quality colour fade first wash dont buy sh...  \n",
       "3          0.0  quality material fit finish shoe excellent wis...  \n",
       "4          0.0                                                     "
      ]
     },
     "execution_count": 202,
     "metadata": {},
     "output_type": "execute_result"
    }
   ],
   "source": [
    "data.head()"
   ]
  },
  {
   "cell_type": "code",
   "execution_count": 203,
   "id": "86443fca",
   "metadata": {},
   "outputs": [],
   "source": [
    "tfidf=TfidfVectorizer(use_idf=True, min_df=0.04, max_df=0.7)\n",
    "tfidf_matrix=tfidf.fit_transform(data['Processed_review'])"
   ]
  },
  {
   "cell_type": "code",
   "execution_count": 204,
   "id": "59e4b076",
   "metadata": {},
   "outputs": [],
   "source": [
    "X=tfidf_matrix.toarray()\n",
    "y=data['Class']\n",
    "X_train,X_test,y_train,y_test=train_test_split(X,y,test_size=0.2)"
   ]
  },
  {
   "cell_type": "code",
   "execution_count": 205,
   "id": "d46bcb1c",
   "metadata": {},
   "outputs": [],
   "source": [
    "model_cv={\n",
    "    'Decision Tree':{'model':DecisionTreeClassifier(),'params':{'criterion':['gini','entropy'],'max_depth':[2,4,6,8]}},\n",
    "    'Logistic Regression':{'model':LogisticRegression(solver='liblinear',multi_class='auto'),'params':{'C':[2,5,10]}},\n",
    "    'Random Forest':{'model':RandomForestClassifier(),'params':{'n_estimators':[1,5,10,15]}},\n",
    "    'SVM':{'model':SVC(gamma='auto'),'params':{'C':[1,10,40],'kernel':['rbf','linear','poly']}}\n",
    "    \n",
    "}"
   ]
  },
  {
   "cell_type": "code",
   "execution_count": 206,
   "id": "0164aecd",
   "metadata": {},
   "outputs": [],
   "source": [
    "scores=[]\n",
    "for model_name,model in model_cv.items():\n",
    "    cv_model=GridSearchCV(model['model'],model['params'],scoring='f1')\n",
    "    cv_model.fit(X,y)\n",
    "    scores.append({'name':model_name,'score':cv_model.best_score_,'best params':cv_model.best_estimator_})"
   ]
  },
  {
   "cell_type": "code",
   "execution_count": 207,
   "id": "71d83de5",
   "metadata": {},
   "outputs": [
    {
     "data": {
      "text/plain": [
       "[{'name': 'Decision Tree',\n",
       "  'score': 0.9000347666987562,\n",
       "  'best params': DecisionTreeClassifier(max_depth=6)},\n",
       " {'name': 'Logistic Regression',\n",
       "  'score': 0.9052732531873457,\n",
       "  'best params': LogisticRegression(C=2, solver='liblinear')},\n",
       " {'name': 'Random Forest',\n",
       "  'score': 0.8980128349779507,\n",
       "  'best params': RandomForestClassifier(n_estimators=5)},\n",
       " {'name': 'SVM',\n",
       "  'score': 0.9062204972088868,\n",
       "  'best params': SVC(C=40, gamma='auto')}]"
      ]
     },
     "execution_count": 207,
     "metadata": {},
     "output_type": "execute_result"
    }
   ],
   "source": [
    "scores"
   ]
  },
  {
   "cell_type": "markdown",
   "id": "f73eb828",
   "metadata": {},
   "source": [
    "The SVM classifier emerged as the optimal model for the task of automatically identifying the sentiment of reviews as either 'positive' or 'negative'. With a robust accuracy rate of<font color ='red' > <b>90.62%</b></font>, it showcases its efficacy in classification. "
   ]
  },
  {
   "cell_type": "markdown",
   "id": "e9e1af63",
   "metadata": {},
   "source": [
    "# Phase 4"
   ]
  },
  {
   "cell_type": "code",
   "execution_count": 208,
   "id": "c058465e",
   "metadata": {},
   "outputs": [],
   "source": [
    "data[\"Text Length\"] = data[\"Review\"].str.len()\n",
    "\n",
    "data[\"Has Image\"] = data[\"Images\"].apply(lambda x: 1 if x > 0 else 0)\n"
   ]
  },
  {
   "cell_type": "code",
   "execution_count": 209,
   "id": "2f8bc11a",
   "metadata": {},
   "outputs": [
    {
     "data": {
      "text/plain": [
       "Unnamed: 0           0\n",
       "Name                 0\n",
       "Date                 0\n",
       "Rating               0\n",
       "Images               0\n",
       "Likes                0\n",
       "Dislikes             0\n",
       "Review Text         57\n",
       "Class                0\n",
       "Review               0\n",
       "Text Length          0\n",
       "Has Image            0\n",
       "Likes Ratio          0\n",
       "Processed_review     0\n",
       "dtype: int64"
      ]
     },
     "execution_count": 209,
     "metadata": {},
     "output_type": "execute_result"
    }
   ],
   "source": [
    "data.isna().sum()"
   ]
  },
  {
   "cell_type": "code",
   "execution_count": 210,
   "id": "6a9c9e66",
   "metadata": {},
   "outputs": [],
   "source": [
    "data[\"Likes Ratio\"] = data[\"Likes\"] / (data[\"Likes\"] + data[\"Dislikes\"] + 1)"
   ]
  },
  {
   "cell_type": "code",
   "execution_count": 212,
   "id": "d8230323",
   "metadata": {},
   "outputs": [],
   "source": [
    "X_train, X_test, y_train, y_test = train_test_split(data[[\"Processed_review\",\"Text Length\",\"Has Image\", \"Class\", \"Likes Ratio\"]], data[\"Likes\"], test_size=0.2)"
   ]
  },
  {
   "cell_type": "code",
   "execution_count": 213,
   "id": "a59550da",
   "metadata": {},
   "outputs": [],
   "source": [
    "vectorizer = TfidfVectorizer(max_features=1000)\n",
    "X_train_text = vectorizer.fit_transform(X_train[\"Processed_review\"])\n",
    "X_test_text = vectorizer.transform(X_test[\"Processed_review\"])\n",
    "from scipy.sparse import hstack"
   ]
  },
  {
   "cell_type": "code",
   "execution_count": 214,
   "id": "123ed200",
   "metadata": {},
   "outputs": [],
   "source": [
    "X_train_combined = hstack((X_train_text, X_train.drop(\"Processed_review\", axis=1)))\n",
    "X_test_combined = hstack((X_test_text, X_test.drop(\"Processed_review\", axis=1)))"
   ]
  },
  {
   "cell_type": "code",
   "execution_count": 215,
   "id": "c88026c3",
   "metadata": {},
   "outputs": [
    {
     "name": "stdout",
     "output_type": "stream",
     "text": [
      "Model Accuracy: 0.9501466275659824\n"
     ]
    }
   ],
   "source": [
    "model = RandomForestClassifier()\n",
    "model.fit(X_train_combined, y_train)\n",
    "\n",
    "# Evaluate the model (replace with desired metrics)\n",
    "predictions = model.predict(X_test_combined)\n",
    "accuracy = accuracy_score(y_test, predictions)\n",
    "\n",
    "print(f\"Model Accuracy: {accuracy}\")"
   ]
  },
  {
   "cell_type": "code",
   "execution_count": 217,
   "id": "389082ae",
   "metadata": {},
   "outputs": [
    {
     "name": "stdout",
     "output_type": "stream",
     "text": [
      "Top 5 most important features:\n",
      "Likes Ratio: 0.3855\n",
      "Text Length: 0.0336\n",
      "wash: 0.0165\n",
      "colour: 0.0145\n",
      "Has Image: 0.0144\n"
     ]
    }
   ],
   "source": [
    "importances = model.feature_importances_\n",
    "feature_names = list(vectorizer.get_feature_names_out()) + [\"Text Length\", \"Has Image\", \"Class\", \"Likes Ratio\"]\n",
    "feature_importance_list = list(zip(feature_names, importances))\n",
    "feature_importance_list.sort(key=lambda x: x[1], reverse=True)\n",
    "\n",
    "# Print top 5 most important features\n",
    "print(\"Top 5 most important features:\")\n",
    "for feature, importance in feature_importance_list[:5]:\n",
    "    print(f\"{feature}: {importance:.4f}\")"
   ]
  },
  {
   "cell_type": "markdown",
   "id": "70c72c78",
   "metadata": {},
   "source": [
    "**Likes Ratio**: This feature, with a weight of 0.3855, indicates the ratio of likes to total votes received by the review. A higher likes ratio suggests that a greater proportion of readers found the review helpful, thereby increasing its overall helpfulness score.\n",
    "\n",
    "**Text Length**: With a weight of 0.0336, text length plays a significant role in helpfulness prediction. Reviews with adequate length tend to provide more detailed information, potentially increasing their helpfulness to readers.\n",
    "\n",
    "**Keywords like \"wash\" and \"colour\"**: Specific keywords related to the product or topic being reviewed can impact helpfulness prediction. These keywords, with weights of 0.0165 and 0.0145 respectively, suggest that mentioning product-specific details can contribute to the perceived helpfulness of the review.\n",
    "\n",
    "**Has Image**:  The presence of an image in the review text also influences helpfulness prediction, as indicated by its weight of 0.0144. Reviews accompanied by images may provide visual context or additional information, enhancing their perceived helpfulness to readers."
   ]
  },
  {
   "cell_type": "markdown",
   "id": "5719010e",
   "metadata": {},
   "source": [
    "Attaching a picture with the review text does increase the helpfulness vote, as indicated by our analysis. Reviews with images were found to be more likely to receive higher helpfulness scores.\n",
    "This phenomenon can be attributed to several factors:\n",
    "1) Enhanced Visual Context\n",
    "2) Increased Engagement\n",
    "3) Product Demonstration\n",
    "4) Emotional Impact"
   ]
  }
 ],
 "metadata": {
  "kernelspec": {
   "display_name": "Python 3 (ipykernel)",
   "language": "python",
   "name": "python3"
  },
  "language_info": {
   "codemirror_mode": {
    "name": "ipython",
    "version": 3
   },
   "file_extension": ".py",
   "mimetype": "text/x-python",
   "name": "python",
   "nbconvert_exporter": "python",
   "pygments_lexer": "ipython3",
   "version": "3.10.9"
  },
  "varInspector": {
   "cols": {
    "lenName": 16,
    "lenType": 16,
    "lenVar": 40
   },
   "kernels_config": {
    "python": {
     "delete_cmd_postfix": "",
     "delete_cmd_prefix": "del ",
     "library": "var_list.py",
     "varRefreshCmd": "print(var_dic_list())"
    },
    "r": {
     "delete_cmd_postfix": ") ",
     "delete_cmd_prefix": "rm(",
     "library": "var_list.r",
     "varRefreshCmd": "cat(var_dic_list()) "
    }
   },
   "types_to_exclude": [
    "module",
    "function",
    "builtin_function_or_method",
    "instance",
    "_Feature"
   ],
   "window_display": false
  }
 },
 "nbformat": 4,
 "nbformat_minor": 5
}
